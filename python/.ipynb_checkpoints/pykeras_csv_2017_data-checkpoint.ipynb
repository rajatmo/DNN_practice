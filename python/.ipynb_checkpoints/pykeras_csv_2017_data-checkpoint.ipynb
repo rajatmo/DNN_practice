{
 "cells": [
  {
   "cell_type": "code",
   "execution_count": 1,
   "metadata": {},
   "outputs": [],
   "source": [
    "import numpy as np\n",
    "import pandas as pd"
   ]
  },
  {
   "cell_type": "code",
   "execution_count": 2,
   "metadata": {},
   "outputs": [],
   "source": [
    "import glob\n",
    "pathwithwildcard = '../csv/2017/forBDTtraining/*/*.csv'\n",
    "paths = glob.glob(pathwithwildcard)"
   ]
  },
  {
   "cell_type": "code",
   "execution_count": 3,
   "metadata": {},
   "outputs": [],
   "source": [
    "df1_signal_dict = {}\n",
    "df1_TT_dict = {}\n",
    "\n",
    "for path in paths:\n",
    "    if 'ttHToNonbb' in path:\n",
    "        df1_signal_dict[path] = pd.read_csv(path)\n",
    "\n",
    "for path in paths:\n",
    "    if not (('ttHToNonbb' in path)or('PSweights' in path)):\n",
    "        if 'TTTo' in path:\n",
    "            df1_TT_dict[path] = pd.read_csv(path)"
   ]
  },
  {
   "cell_type": "code",
   "execution_count": 4,
   "metadata": {},
   "outputs": [],
   "source": [
    "tmp_sig = []\n",
    "for keys in df1_signal_dict.keys():\n",
    "    tmp_sig.append(df1_signal_dict[keys])\n",
    "tmp_TT = []\n",
    "for keys in df1_TT_dict.keys():\n",
    "    tmp_TT.append(df1_TT_dict[keys])\n"
   ]
  },
  {
   "cell_type": "code",
   "execution_count": 5,
   "metadata": {},
   "outputs": [],
   "source": [
    "df1_signal = pd.concat(tmp_sig)\n",
    "df1_TT = pd.concat(tmp_TT)"
   ]
  },
  {
   "cell_type": "code",
   "execution_count": 6,
   "metadata": {},
   "outputs": [
    {
     "name": "stdout",
     "output_type": "stream",
     "text": [
      "(44026, 124) (20293, 124)\n"
     ]
    }
   ],
   "source": [
    "print df1_signal.shape, df1_TT.shape"
   ]
  },
  {
   "cell_type": "code",
   "execution_count": 7,
   "metadata": {},
   "outputs": [],
   "source": [
    "varlist=[\n",
    "    'AK12_lead_mass',\n",
    "    'AK12_lead_pt',\n",
    "    'DR_AK12_tau',\n",
    "    'avg_dr_jet',\n",
    "    'b1_loose_pt',\n",
    "    'b1_pt',\n",
    "    'b2_loose_pt',\n",
    "    'b2_pt',\n",
    "    'detabb',\n",
    "    'detabb_loose',\n",
    "    'dr_lep1_tau_os',\n",
    "    'dr_leps',\n",
    "    'drbb',\n",
    "    'drbb_loose',\n",
    "    'htmiss',\n",
    "    'lep1_conePt',\n",
    "    'lep1_eta',\n",
    "    'lep1_fake_prob',\n",
    "    'lep1_pt',\n",
    "    'lep2_conePt',\n",
    "    'lep2_eta',\n",
    "    'lep2_genLepPt',\n",
    "    'lep2_pt',\n",
    "    'mT_lep1',\n",
    "    'mT_lep2',\n",
    "    'mTauTauVis',\n",
    "    'max_lep_eta',\n",
    "    'mbb',\n",
    "    'mbb_loose',\n",
    "    'minDR_AK12_L',\n",
    "    'minDR_AK12_lep',\n",
    "    'minDR_HTTv2_L',\n",
    "    'minDR_HTTv2_lep',\n",
    "    'minDR_HTTv2_tau',\n",
    "    'mindr_lep1_jet',\n",
    "    'mindr_lep2_jet',\n",
    "    'mindr_tau_jet',\n",
    "    'ptbb',\n",
    "    'ptbb_loose',\n",
    "    'ptmiss',\n",
    "    'tau_eta',\n",
    "    'tau_mva',\n",
    "    'tau_pt',\n",
    "    'N_jetAK12',\n",
    "    'nBJetLoose',\n",
    "    'nJet',\n",
    "    'nMuon'\n",
    "]"
   ]
  },
  {
   "cell_type": "code",
   "execution_count": 8,
   "metadata": {},
   "outputs": [],
   "source": [
    "df1_signal = df1_signal[varlist]\n",
    "df1_signal_target = [0]*df1_signal.shape[0]\n",
    "df1_TT = df1_TT[varlist]\n",
    "df1_TT_target = [1]*df1_TT.shape[0]\n",
    "tmp0 = [df1_signal,df1_TT]\n",
    "df1 = pd.concat(tmp0)\n",
    "target = df1_signal_target+df1_TT_target\n",
    "df1['target'] = target"
   ]
  },
  {
   "cell_type": "code",
   "execution_count": 9,
   "metadata": {},
   "outputs": [],
   "source": [
    "#train_test split\n",
    "df1_train = df1.sample(frac=0.3)\n",
    "df1_test = df1.drop(df1_train.index)"
   ]
  },
  {
   "cell_type": "code",
   "execution_count": 10,
   "metadata": {},
   "outputs": [],
   "source": [
    "df1_train_target = df1_train['target'].copy()\n",
    "df1_train = df1_train.drop('target',axis=1)\n",
    "df1_test_target = df1_test['target'].copy()\n",
    "df1_test = df1_test.drop('target',axis=1)"
   ]
  },
  {
   "cell_type": "code",
   "execution_count": 11,
   "metadata": {},
   "outputs": [
    {
     "name": "stderr",
     "output_type": "stream",
     "text": [
      "Using TensorFlow backend.\n"
     ]
    }
   ],
   "source": [
    "from keras.utils import to_categorical\n",
    "df1_train_target_cat = to_categorical(df1_train_target)\n",
    "df1_test_target_cat = to_categorical(df1_test_target)"
   ]
  },
  {
   "cell_type": "code",
   "execution_count": 12,
   "metadata": {},
   "outputs": [
    {
     "name": "stdout",
     "output_type": "stream",
     "text": [
      "(19296,) (19296, 47) (5202, 47) (5202,)\n"
     ]
    }
   ],
   "source": [
    "print df1_train_target.shape, df1_train.shape, df1_test.shape, df1_test_target.shape"
   ]
  },
  {
   "cell_type": "code",
   "execution_count": 13,
   "metadata": {},
   "outputs": [],
   "source": [
    "#df1_train_target"
   ]
  },
  {
   "cell_type": "code",
   "execution_count": 14,
   "metadata": {},
   "outputs": [
    {
     "name": "stdout",
     "output_type": "stream",
     "text": [
      "['AK12_lead_mass' 'AK12_lead_pt' 'DR_AK12_tau' 'avg_dr_jet' 'b1_loose_pt'\n",
      " 'b1_pt' 'b2_loose_pt' 'b2_pt' 'detabb' 'detabb_loose' 'dr_lep1_tau_os'\n",
      " 'dr_leps' 'drbb' 'drbb_loose' 'htmiss' 'lep1_conePt' 'lep1_eta'\n",
      " 'lep1_fake_prob' 'lep1_pt' 'lep2_conePt' 'lep2_eta' 'lep2_genLepPt'\n",
      " 'lep2_pt' 'mT_lep1' 'mT_lep2' 'mTauTauVis' 'max_lep_eta' 'mbb'\n",
      " 'mbb_loose' 'minDR_AK12_L' 'minDR_AK12_lep' 'minDR_HTTv2_L'\n",
      " 'minDR_HTTv2_lep' 'minDR_HTTv2_tau' 'mindr_lep1_jet' 'mindr_lep2_jet'\n",
      " 'mindr_tau_jet' 'ptbb' 'ptbb_loose' 'ptmiss' 'tau_eta' 'tau_mva' 'tau_pt'\n",
      " 'N_jetAK12' 'nBJetLoose' 'nJet' 'nMuon']\n"
     ]
    }
   ],
   "source": [
    "print df1_train.columns.values"
   ]
  },
  {
   "cell_type": "code",
   "execution_count": 15,
   "metadata": {},
   "outputs": [
    {
     "data": {
      "text/plain": [
       "47"
      ]
     },
     "execution_count": 15,
     "metadata": {},
     "output_type": "execute_result"
    }
   ],
   "source": [
    "len(varlist)"
   ]
  },
  {
   "cell_type": "code",
   "execution_count": 16,
   "metadata": {},
   "outputs": [],
   "source": [
    "#importing KERAS\n",
    "import keras\n",
    "from keras.layers import Embedding, Input, Flatten, Dense, Activation\n",
    "from keras.models import Model, Sequential\n",
    "from keras.optimizers import SGD\n",
    "\n",
    "\n",
    "\n",
    "#df1_train_target = keras.utils.to_categorical(df1_train_target, num_classes=2)\n",
    "#df1_test_target = keras.utils.to_categorical(df1_test_target, num_classes=2)"
   ]
  },
  {
   "cell_type": "code",
   "execution_count": 17,
   "metadata": {},
   "outputs": [],
   "source": [
    "#defining keras model\n",
    "model = Sequential()\n",
    "model.add(Dense(100,activation='relu',input_dim=len(varlist)))\n",
    "model.add(Dense(10,activation='relu'))\n",
    "model.add(Dense(2,activation='softmax'))"
   ]
  },
  {
   "cell_type": "code",
   "execution_count": 18,
   "metadata": {},
   "outputs": [
    {
     "name": "stdout",
     "output_type": "stream",
     "text": [
      "_________________________________________________________________\n",
      "Layer (type)                 Output Shape              Param #   \n",
      "=================================================================\n",
      "dense_1 (Dense)              (None, 100)               4800      \n",
      "_________________________________________________________________\n",
      "dense_2 (Dense)              (None, 10)                1010      \n",
      "_________________________________________________________________\n",
      "dense_3 (Dense)              (None, 2)                 22        \n",
      "=================================================================\n",
      "Total params: 5,832\n",
      "Trainable params: 5,832\n",
      "Non-trainable params: 0\n",
      "_________________________________________________________________\n"
     ]
    }
   ],
   "source": [
    "model.summary()"
   ]
  },
  {
   "cell_type": "code",
   "execution_count": 19,
   "metadata": {},
   "outputs": [],
   "source": [
    "model.compile(loss='categorical_crossentropy',optimizer='adam',metrics=['accuracy'])"
   ]
  },
  {
   "cell_type": "code",
   "execution_count": 20,
   "metadata": {},
   "outputs": [
    {
     "name": "stdout",
     "output_type": "stream",
     "text": [
      "Train on 19296 samples, validate on 5202 samples\n",
      "Epoch 1/100\n",
      "19296/19296 [==============================] - 1s 77us/step - loss: 0.8632 - acc: 0.6901 - val_loss: 0.3199 - val_acc: 0.8752\n",
      "Epoch 2/100\n",
      "19296/19296 [==============================] - 1s 67us/step - loss: 0.5442 - acc: 0.7265 - val_loss: 0.3551 - val_acc: 0.8854\n",
      "Epoch 3/100\n",
      "19296/19296 [==============================] - 1s 67us/step - loss: 0.5339 - acc: 0.7345 - val_loss: 0.4421 - val_acc: 0.7880\n",
      "Epoch 4/100\n",
      "19296/19296 [==============================] - 1s 67us/step - loss: 0.5352 - acc: 0.7371 - val_loss: 0.3066 - val_acc: 0.8943\n",
      "Epoch 5/100\n",
      "19296/19296 [==============================] - 1s 68us/step - loss: 0.5244 - acc: 0.7424 - val_loss: 0.3669 - val_acc: 0.8466\n",
      "Epoch 6/100\n",
      "19296/19296 [==============================] - 1s 67us/step - loss: 0.5184 - acc: 0.7463 - val_loss: 0.3297 - val_acc: 0.8731\n",
      "Epoch 7/100\n",
      "19296/19296 [==============================] - 1s 67us/step - loss: 0.5105 - acc: 0.7492 - val_loss: 0.4299 - val_acc: 0.8030\n",
      "Epoch 8/100\n",
      "19296/19296 [==============================] - 1s 67us/step - loss: 0.5071 - acc: 0.7510 - val_loss: 0.4797 - val_acc: 0.7716\n",
      "Epoch 9/100\n",
      "19296/19296 [==============================] - 1s 67us/step - loss: 0.5024 - acc: 0.7552 - val_loss: 0.3477 - val_acc: 0.8729\n",
      "Epoch 10/100\n",
      "19296/19296 [==============================] - 1s 67us/step - loss: 0.4959 - acc: 0.7587 - val_loss: 0.3147 - val_acc: 0.8854\n",
      "Epoch 11/100\n",
      "19296/19296 [==============================] - 1s 70us/step - loss: 0.4946 - acc: 0.7601 - val_loss: 0.5589 - val_acc: 0.6603\n",
      "Epoch 12/100\n",
      "19296/19296 [==============================] - 1s 70us/step - loss: 0.4925 - acc: 0.7636 - val_loss: 0.3248 - val_acc: 0.8764\n",
      "Epoch 13/100\n",
      "19296/19296 [==============================] - 1s 69us/step - loss: 0.4893 - acc: 0.7625 - val_loss: 0.3932 - val_acc: 0.8272\n",
      "Epoch 14/100\n",
      "19296/19296 [==============================] - 1s 67us/step - loss: 0.4844 - acc: 0.7664 - val_loss: 0.2739 - val_acc: 0.9079\n",
      "Epoch 15/100\n",
      "19296/19296 [==============================] - 1s 68us/step - loss: 0.4907 - acc: 0.7635 - val_loss: 0.3585 - val_acc: 0.8429\n",
      "Epoch 16/100\n",
      "19296/19296 [==============================] - 1s 68us/step - loss: 0.4862 - acc: 0.7668 - val_loss: 0.3224 - val_acc: 0.8731\n",
      "Epoch 17/100\n",
      "19296/19296 [==============================] - 1s 68us/step - loss: 0.4849 - acc: 0.7658 - val_loss: 0.3891 - val_acc: 0.8058\n",
      "Epoch 18/100\n",
      "19296/19296 [==============================] - 1s 68us/step - loss: 0.4832 - acc: 0.7694 - val_loss: 0.3049 - val_acc: 0.8768\n",
      "Epoch 19/100\n",
      "19296/19296 [==============================] - 1s 68us/step - loss: 0.4801 - acc: 0.7674 - val_loss: 0.3564 - val_acc: 0.8516\n",
      "Epoch 20/100\n",
      "19296/19296 [==============================] - 1s 68us/step - loss: 0.4830 - acc: 0.7672 - val_loss: 0.4253 - val_acc: 0.8264\n",
      "Epoch 21/100\n",
      "19296/19296 [==============================] - 1s 68us/step - loss: 0.4828 - acc: 0.7672 - val_loss: 0.3419 - val_acc: 0.8601\n",
      "Epoch 22/100\n",
      "19296/19296 [==============================] - 1s 68us/step - loss: 0.4792 - acc: 0.7682 - val_loss: 0.3308 - val_acc: 0.8608\n",
      "Epoch 23/100\n",
      "19296/19296 [==============================] - 1s 69us/step - loss: 0.4804 - acc: 0.7667 - val_loss: 0.3295 - val_acc: 0.8468\n",
      "Epoch 24/100\n",
      "19296/19296 [==============================] - 1s 68us/step - loss: 0.4795 - acc: 0.7691 - val_loss: 0.4210 - val_acc: 0.7987\n",
      "Epoch 25/100\n",
      "19296/19296 [==============================] - 1s 68us/step - loss: 0.4770 - acc: 0.7710 - val_loss: 0.3602 - val_acc: 0.8372\n",
      "Epoch 26/100\n",
      "19296/19296 [==============================] - 1s 67us/step - loss: 0.4775 - acc: 0.7718 - val_loss: 0.4291 - val_acc: 0.8053\n",
      "Epoch 27/100\n",
      "19296/19296 [==============================] - 1s 68us/step - loss: 0.4762 - acc: 0.7732 - val_loss: 0.4117 - val_acc: 0.8097\n",
      "Epoch 28/100\n",
      "19296/19296 [==============================] - 1s 72us/step - loss: 0.4720 - acc: 0.7737 - val_loss: 0.3942 - val_acc: 0.8210\n",
      "Epoch 29/100\n",
      "19296/19296 [==============================] - 1s 70us/step - loss: 0.4755 - acc: 0.7743 - val_loss: 0.3098 - val_acc: 0.8824\n",
      "Epoch 30/100\n",
      "19296/19296 [==============================] - 1s 68us/step - loss: 0.4712 - acc: 0.7759 - val_loss: 0.3616 - val_acc: 0.8426\n",
      "Epoch 31/100\n",
      "19296/19296 [==============================] - 1s 68us/step - loss: 0.4737 - acc: 0.7720 - val_loss: 0.3004 - val_acc: 0.8710\n",
      "Epoch 32/100\n",
      "19296/19296 [==============================] - 1s 68us/step - loss: 0.4711 - acc: 0.7733 - val_loss: 0.2732 - val_acc: 0.8858\n",
      "Epoch 33/100\n",
      "19296/19296 [==============================] - 1s 69us/step - loss: 0.4691 - acc: 0.7739 - val_loss: 0.3472 - val_acc: 0.8520\n",
      "Epoch 34/100\n",
      "19296/19296 [==============================] - 1s 68us/step - loss: 0.4720 - acc: 0.7750 - val_loss: 0.3301 - val_acc: 0.8577\n",
      "Epoch 35/100\n",
      "19296/19296 [==============================] - 1s 68us/step - loss: 0.4706 - acc: 0.7733 - val_loss: 0.3181 - val_acc: 0.8541\n",
      "Epoch 36/100\n",
      "19296/19296 [==============================] - 1s 68us/step - loss: 0.4700 - acc: 0.7755 - val_loss: 0.3920 - val_acc: 0.8306\n",
      "Epoch 37/100\n",
      "19296/19296 [==============================] - 1s 67us/step - loss: 0.4687 - acc: 0.7713 - val_loss: 0.3086 - val_acc: 0.8464\n",
      "Epoch 38/100\n",
      "19296/19296 [==============================] - 1s 68us/step - loss: 0.4690 - acc: 0.7781 - val_loss: 0.3735 - val_acc: 0.8168\n",
      "Epoch 39/100\n",
      "19296/19296 [==============================] - 1s 68us/step - loss: 0.4678 - acc: 0.7793 - val_loss: 0.2879 - val_acc: 0.8691\n",
      "Epoch 40/100\n",
      "19296/19296 [==============================] - 1s 68us/step - loss: 0.4671 - acc: 0.7764 - val_loss: 0.3877 - val_acc: 0.8291\n",
      "Epoch 41/100\n",
      "19296/19296 [==============================] - 1s 70us/step - loss: 0.4663 - acc: 0.7766 - val_loss: 0.3726 - val_acc: 0.8378\n",
      "Epoch 42/100\n",
      "19296/19296 [==============================] - 1s 71us/step - loss: 0.4658 - acc: 0.7758 - val_loss: 0.3204 - val_acc: 0.8593\n",
      "Epoch 43/100\n",
      "19296/19296 [==============================] - 1s 76us/step - loss: 0.4649 - acc: 0.7741 - val_loss: 0.3584 - val_acc: 0.8212\n",
      "Epoch 44/100\n",
      "19296/19296 [==============================] - 1s 68us/step - loss: 0.4663 - acc: 0.7794 - val_loss: 0.3318 - val_acc: 0.8660\n",
      "Epoch 45/100\n",
      "19296/19296 [==============================] - 1s 67us/step - loss: 0.4652 - acc: 0.7777 - val_loss: 0.3824 - val_acc: 0.8237\n",
      "Epoch 46/100\n",
      "19296/19296 [==============================] - 1s 67us/step - loss: 0.4639 - acc: 0.7772 - val_loss: 0.3896 - val_acc: 0.8185\n",
      "Epoch 47/100\n",
      "19296/19296 [==============================] - 1s 72us/step - loss: 0.4648 - acc: 0.7774 - val_loss: 0.5064 - val_acc: 0.7480\n",
      "Epoch 48/100\n",
      "19296/19296 [==============================] - 1s 71us/step - loss: 0.4628 - acc: 0.7790 - val_loss: 0.4072 - val_acc: 0.8110\n",
      "Epoch 49/100\n",
      "19296/19296 [==============================] - 1s 71us/step - loss: 0.4643 - acc: 0.7783 - val_loss: 0.4023 - val_acc: 0.7960\n",
      "Epoch 50/100\n",
      "19296/19296 [==============================] - 1s 67us/step - loss: 0.4600 - acc: 0.7816 - val_loss: 0.3348 - val_acc: 0.8274\n",
      "Epoch 51/100\n",
      "19296/19296 [==============================] - 1s 69us/step - loss: 0.4593 - acc: 0.7775 - val_loss: 0.3976 - val_acc: 0.8295\n",
      "Epoch 52/100\n",
      "19296/19296 [==============================] - 1s 67us/step - loss: 0.4579 - acc: 0.7766 - val_loss: 0.4015 - val_acc: 0.8060\n",
      "Epoch 53/100\n",
      "19296/19296 [==============================] - 1s 72us/step - loss: 0.4582 - acc: 0.7798 - val_loss: 0.3449 - val_acc: 0.8420\n",
      "Epoch 54/100\n",
      "19296/19296 [==============================] - 1s 72us/step - loss: 0.4581 - acc: 0.7842 - val_loss: 0.3838 - val_acc: 0.8337\n",
      "Epoch 55/100\n",
      "19296/19296 [==============================] - 1s 76us/step - loss: 0.4589 - acc: 0.7822 - val_loss: 0.3773 - val_acc: 0.8337\n",
      "Epoch 56/100\n",
      "19296/19296 [==============================] - 1s 71us/step - loss: 0.4575 - acc: 0.7823 - val_loss: 0.3349 - val_acc: 0.8585\n",
      "Epoch 57/100\n",
      "19296/19296 [==============================] - 1s 65us/step - loss: 0.4581 - acc: 0.7794 - val_loss: 0.3454 - val_acc: 0.8437\n",
      "Epoch 58/100\n",
      "19296/19296 [==============================] - 1s 65us/step - loss: 0.4558 - acc: 0.7802 - val_loss: 0.3400 - val_acc: 0.8441\n",
      "Epoch 59/100\n"
     ]
    },
    {
     "name": "stdout",
     "output_type": "stream",
     "text": [
      "19296/19296 [==============================] - 1s 65us/step - loss: 0.4577 - acc: 0.7795 - val_loss: 0.3213 - val_acc: 0.8589\n",
      "Epoch 60/100\n",
      "19296/19296 [==============================] - 1s 66us/step - loss: 0.4554 - acc: 0.7818 - val_loss: 0.3511 - val_acc: 0.8233\n",
      "Epoch 61/100\n",
      "19296/19296 [==============================] - 1s 66us/step - loss: 0.4550 - acc: 0.7845 - val_loss: 0.3457 - val_acc: 0.8479\n",
      "Epoch 62/100\n",
      "19296/19296 [==============================] - 1s 66us/step - loss: 0.4557 - acc: 0.7814 - val_loss: 0.3871 - val_acc: 0.8333\n",
      "Epoch 63/100\n",
      "19296/19296 [==============================] - 1s 65us/step - loss: 0.4552 - acc: 0.7842 - val_loss: 0.3413 - val_acc: 0.8364\n",
      "Epoch 64/100\n",
      "19296/19296 [==============================] - 1s 65us/step - loss: 0.4539 - acc: 0.7826 - val_loss: 0.3104 - val_acc: 0.8587\n",
      "Epoch 65/100\n",
      "19296/19296 [==============================] - 1s 65us/step - loss: 0.4539 - acc: 0.7808 - val_loss: 0.3200 - val_acc: 0.8593\n",
      "Epoch 66/100\n",
      "19296/19296 [==============================] - 1s 65us/step - loss: 0.4537 - acc: 0.7819 - val_loss: 0.3703 - val_acc: 0.8189\n",
      "Epoch 67/100\n",
      "19296/19296 [==============================] - 1s 65us/step - loss: 0.4543 - acc: 0.7831 - val_loss: 0.3164 - val_acc: 0.8808\n",
      "Epoch 68/100\n",
      "19296/19296 [==============================] - 1s 66us/step - loss: 0.4542 - acc: 0.7818 - val_loss: 0.3110 - val_acc: 0.8633\n",
      "Epoch 69/100\n",
      "19296/19296 [==============================] - 1s 65us/step - loss: 0.4537 - acc: 0.7814 - val_loss: 0.3488 - val_acc: 0.8416\n",
      "Epoch 70/100\n",
      "19296/19296 [==============================] - 1s 65us/step - loss: 0.4508 - acc: 0.7834 - val_loss: 0.4730 - val_acc: 0.7643\n",
      "Epoch 71/100\n",
      "19296/19296 [==============================] - 1s 65us/step - loss: 0.4525 - acc: 0.7836 - val_loss: 0.3829 - val_acc: 0.8087\n",
      "Epoch 72/100\n",
      "19296/19296 [==============================] - 1s 65us/step - loss: 0.4522 - acc: 0.7857 - val_loss: 0.3674 - val_acc: 0.8197\n",
      "Epoch 73/100\n",
      "19296/19296 [==============================] - 1s 65us/step - loss: 0.4504 - acc: 0.7854 - val_loss: 0.3073 - val_acc: 0.8708\n",
      "Epoch 74/100\n",
      "19296/19296 [==============================] - 1s 66us/step - loss: 0.4496 - acc: 0.7848 - val_loss: 0.3633 - val_acc: 0.8230\n",
      "Epoch 75/100\n",
      "19296/19296 [==============================] - 1s 65us/step - loss: 0.4505 - acc: 0.7850 - val_loss: 0.3673 - val_acc: 0.8280\n",
      "Epoch 76/100\n",
      "19296/19296 [==============================] - 1s 65us/step - loss: 0.4511 - acc: 0.7853 - val_loss: 0.3657 - val_acc: 0.8212\n",
      "Epoch 77/100\n",
      "19296/19296 [==============================] - 1s 65us/step - loss: 0.4486 - acc: 0.7854 - val_loss: 0.3768 - val_acc: 0.8237\n",
      "Epoch 78/100\n",
      "19296/19296 [==============================] - 1s 65us/step - loss: 0.4477 - acc: 0.7865 - val_loss: 0.3657 - val_acc: 0.8293\n",
      "Epoch 79/100\n",
      "19296/19296 [==============================] - 1s 64us/step - loss: 0.4483 - acc: 0.7842 - val_loss: 0.3864 - val_acc: 0.8145\n",
      "Epoch 80/100\n",
      "19296/19296 [==============================] - 1s 65us/step - loss: 0.4493 - acc: 0.7839 - val_loss: 0.3486 - val_acc: 0.8399\n",
      "Epoch 81/100\n",
      "19296/19296 [==============================] - 1s 65us/step - loss: 0.4479 - acc: 0.7845 - val_loss: 0.3123 - val_acc: 0.8574\n",
      "Epoch 82/100\n",
      "19296/19296 [==============================] - 1s 65us/step - loss: 0.4469 - acc: 0.7883 - val_loss: 0.4144 - val_acc: 0.8093\n",
      "Epoch 83/100\n",
      "19296/19296 [==============================] - 1s 64us/step - loss: 0.4469 - acc: 0.7858 - val_loss: 0.3347 - val_acc: 0.8545\n",
      "Epoch 84/100\n",
      "19296/19296 [==============================] - 1s 65us/step - loss: 0.4461 - acc: 0.7877 - val_loss: 0.3071 - val_acc: 0.8595\n",
      "Epoch 85/100\n",
      "19296/19296 [==============================] - 1s 65us/step - loss: 0.4471 - acc: 0.7880 - val_loss: 0.4004 - val_acc: 0.7914\n",
      "Epoch 86/100\n",
      "19296/19296 [==============================] - 1s 66us/step - loss: 0.4459 - acc: 0.7856 - val_loss: 0.4029 - val_acc: 0.8032\n",
      "Epoch 87/100\n",
      "19296/19296 [==============================] - 1s 65us/step - loss: 0.4467 - acc: 0.7852 - val_loss: 0.4094 - val_acc: 0.8139\n",
      "Epoch 88/100\n",
      "19296/19296 [==============================] - 1s 65us/step - loss: 0.4462 - acc: 0.7875 - val_loss: 0.3861 - val_acc: 0.8274\n",
      "Epoch 89/100\n",
      "19296/19296 [==============================] - 1s 65us/step - loss: 0.4483 - acc: 0.7859 - val_loss: 0.4213 - val_acc: 0.8014\n",
      "Epoch 90/100\n",
      "19296/19296 [==============================] - 1s 65us/step - loss: 0.4463 - acc: 0.7865 - val_loss: 0.3268 - val_acc: 0.8585\n",
      "Epoch 91/100\n",
      "19296/19296 [==============================] - 1s 65us/step - loss: 0.4449 - acc: 0.7893 - val_loss: 0.4119 - val_acc: 0.8199\n",
      "Epoch 92/100\n",
      "19296/19296 [==============================] - 1s 64us/step - loss: 0.4429 - acc: 0.7858 - val_loss: 0.3441 - val_acc: 0.8395\n",
      "Epoch 93/100\n",
      "19296/19296 [==============================] - 1s 65us/step - loss: 0.4438 - acc: 0.7887 - val_loss: 0.3416 - val_acc: 0.8328\n",
      "Epoch 94/100\n",
      "19296/19296 [==============================] - 1s 65us/step - loss: 0.4450 - acc: 0.7891 - val_loss: 0.3528 - val_acc: 0.8429\n",
      "Epoch 95/100\n",
      "19296/19296 [==============================] - 1s 65us/step - loss: 0.4418 - acc: 0.7877 - val_loss: 0.3675 - val_acc: 0.8376\n",
      "Epoch 96/100\n",
      "19296/19296 [==============================] - 1s 65us/step - loss: 0.4428 - acc: 0.7881 - val_loss: 0.3427 - val_acc: 0.8443\n",
      "Epoch 97/100\n",
      "19296/19296 [==============================] - 1s 65us/step - loss: 0.4424 - acc: 0.7881 - val_loss: 0.4065 - val_acc: 0.7982\n",
      "Epoch 98/100\n",
      "19296/19296 [==============================] - 1s 65us/step - loss: 0.4425 - acc: 0.7877 - val_loss: 0.3160 - val_acc: 0.8479\n",
      "Epoch 99/100\n",
      "19296/19296 [==============================] - 1s 65us/step - loss: 0.4446 - acc: 0.7876 - val_loss: 0.3163 - val_acc: 0.8558\n",
      "Epoch 100/100\n",
      "19296/19296 [==============================] - 1s 65us/step - loss: 0.4425 - acc: 0.7889 - val_loss: 0.3067 - val_acc: 0.8679\n"
     ]
    }
   ],
   "source": [
    "hist = model.fit(df1_train,df1_train_target_cat,\n",
    "                 batch_size=10,\n",
    "                 epochs=100,\n",
    "                 validation_data=(df1_test,df1_test_target_cat),\n",
    "                 verbose = 1\n",
    "                 )"
   ]
  },
  {
   "cell_type": "code",
   "execution_count": 21,
   "metadata": {
    "scrolled": true
   },
   "outputs": [],
   "source": [
    "from keras.wrappers.scikit_learn import KerasClassifier\n",
    "from sklearn.metrics import roc_curve\n",
    "from sklearn.metrics import auc\n",
    "import matplotlib\n",
    "from matplotlib import pyplot as plt"
   ]
  },
  {
   "cell_type": "code",
   "execution_count": 22,
   "metadata": {},
   "outputs": [],
   "source": [
    "fpr_keras, tpr_keras, thresholds_keras = roc_curve(df1_test_target_cat[:,0],model.predict(df1_test)[:,0])\n",
    "auc_keras = auc(fpr_keras, tpr_keras)"
   ]
  },
  {
   "cell_type": "code",
   "execution_count": 23,
   "metadata": {},
   "outputs": [
    {
     "data": {
      "image/png": "[encoded data removed]",
      "text/plain": [
       "<Figure size 432x288 with 1 Axes>"
      ]
     },
     "metadata": {},
     "output_type": "display_data"
    }
   ],
   "source": [
    "plt.figure(1)\n",
    "plt.plot([0, 1], [0, 1], 'k--')\n",
    "plt.plot(fpr_keras, tpr_keras, label='Keras (area = {:.3f})'.format(auc_keras))\n",
    "plt.xlabel('False positive rate')\n",
    "plt.ylabel('True positive rate')\n",
    "plt.title('ROC curve')\n",
    "plt.legend(loc='best')\n",
    "plt.show()"
   ]
  },
  {
   "cell_type": "code",
   "execution_count": null,
   "metadata": {},
   "outputs": [],
   "source": []
  },
  {
   "cell_type": "code",
   "execution_count": 28,
   "metadata": {},
   "outputs": [],
   "source": []
  },
  {
   "cell_type": "code",
   "execution_count": 29,
   "metadata": {},
   "outputs": [],
   "source": []
  },
  {
   "cell_type": "code",
   "execution_count": 30,
   "metadata": {},
   "outputs": [],
   "source": []
  },
  {
   "cell_type": "code",
   "execution_count": null,
   "metadata": {},
   "outputs": [],
   "source": []
  },
  {
   "cell_type": "code",
   "execution_count": 32,
   "metadata": {},
   "outputs": [],
   "source": []
  },
  {
   "cell_type": "code",
   "execution_count": 33,
   "metadata": {},
   "outputs": [],
   "source": []
  },
  {
   "cell_type": "code",
   "execution_count": null,
   "metadata": {},
   "outputs": [],
   "source": []
  },
  {
   "cell_type": "code",
   "execution_count": null,
   "metadata": {},
   "outputs": [],
   "source": []
  },
  {
   "cell_type": "code",
   "execution_count": null,
   "metadata": {},
   "outputs": [],
   "source": []
  }
 ],
 "metadata": {
  "kernelspec": {
   "display_name": "Python 2",
   "language": "python",
   "name": "python2"
  },
  "language_info": {
   "codemirror_mode": {
    "name": "ipython",
    "version": 2
   },
   "file_extension": ".py",
   "mimetype": "text/x-python",
   "name": "python",
   "nbconvert_exporter": "python",
   "pygments_lexer": "ipython2",
   "version": "2.7.15"
  }
 },
 "nbformat": 4,
 "nbformat_minor": 2
}
