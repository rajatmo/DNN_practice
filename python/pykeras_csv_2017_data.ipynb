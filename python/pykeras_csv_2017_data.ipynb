{
 "cells": [
  {
   "cell_type": "code",
   "execution_count": 1,
   "metadata": {},
   "outputs": [],
   "source": [
    "import numpy as np\n",
    "import pandas as pd\n"
   ]
  },
  {
   "cell_type": "code",
   "execution_count": 2,
   "metadata": {},
   "outputs": [],
   "source": [
    "import glob\n",
    "pathwithwildcard = '../csv/2017/forBDTtraining/*/*.csv'\n",
    "paths = glob.glob(pathwithwildcard)"
   ]
  },
  {
   "cell_type": "code",
   "execution_count": 3,
   "metadata": {},
   "outputs": [],
   "source": [
    "df1_signal_dict = {}\n",
    "df1_TT_dict = {}\n",
    "\n",
    "for path in paths:\n",
    "    if 'ttHToNonbb' in path:\n",
    "        df1_signal_dict[path] = pd.read_csv(path)\n",
    "\n",
    "for path in paths:\n",
    "    if not (('ttHToNonbb' in path)or('PSweights' in path)):\n",
    "        if 'TTTo' in path:\n",
    "            df1_TT_dict[path] = pd.read_csv(path)"
   ]
  },
  {
   "cell_type": "code",
   "execution_count": 4,
   "metadata": {},
   "outputs": [],
   "source": [
    "tmp_sig = []\n",
    "for keys in df1_signal_dict.keys():\n",
    "    tmp_sig.append(df1_signal_dict[keys])\n",
    "tmp_TT = []\n",
    "for keys in df1_TT_dict.keys():\n",
    "    tmp_TT.append(df1_TT_dict[keys])\n"
   ]
  },
  {
   "cell_type": "code",
   "execution_count": 5,
   "metadata": {},
   "outputs": [],
   "source": [
    "df1_signal = pd.concat(tmp_sig)\n",
    "df1_TT = pd.concat(tmp_TT)"
   ]
  },
  {
   "cell_type": "code",
   "execution_count": 6,
   "metadata": {},
   "outputs": [
    {
     "name": "stdout",
     "output_type": "stream",
     "text": [
      "(44026, 124) (20293, 124)\n"
     ]
    }
   ],
   "source": [
    "print df1_signal.shape, df1_TT.shape"
   ]
  },
  {
   "cell_type": "code",
   "execution_count": 7,
   "metadata": {},
   "outputs": [],
   "source": [
    "varlist=[\n",
    "    'AK12_lead_mass',\n",
    "    'AK12_lead_pt',\n",
    "    'DR_AK12_tau',\n",
    "    'avg_dr_jet',\n",
    "    'b1_loose_pt',\n",
    "    'b1_pt',\n",
    "    'b2_loose_pt',\n",
    "    'b2_pt',\n",
    "    'detabb',\n",
    "    'detabb_loose',\n",
    "    'dr_lep1_tau_os',\n",
    "    'dr_leps',\n",
    "    'drbb',\n",
    "    'drbb_loose',\n",
    "    'htmiss',\n",
    "    'lep1_conePt',\n",
    "    'lep1_eta',\n",
    "    'lep1_fake_prob',\n",
    "    'lep1_pt',\n",
    "    'lep2_conePt',\n",
    "    'lep2_eta',\n",
    "    'lep2_genLepPt',\n",
    "    'lep2_pt',\n",
    "    'mT_lep1',\n",
    "    'mT_lep2',\n",
    "    'mTauTauVis',\n",
    "    'max_lep_eta',\n",
    "    'mbb',\n",
    "    'mbb_loose',\n",
    "    'minDR_AK12_L',\n",
    "    'minDR_AK12_lep',\n",
    "    'minDR_HTTv2_L',\n",
    "    'minDR_HTTv2_lep',\n",
    "    'minDR_HTTv2_tau',\n",
    "    'mindr_lep1_jet',\n",
    "    'mindr_lep2_jet',\n",
    "    'mindr_tau_jet',\n",
    "    'ptbb',\n",
    "    'ptbb_loose',\n",
    "    'ptmiss',\n",
    "    'tau_eta',\n",
    "    'tau_mva',\n",
    "    'tau_pt',\n",
    "    'N_jetAK12',\n",
    "    'nBJetLoose',\n",
    "    'nJet',\n",
    "    'nMuon'\n",
    "]"
   ]
  },
  {
   "cell_type": "code",
   "execution_count": 8,
   "metadata": {},
   "outputs": [],
   "source": [
    "df1_signal = df1_signal[varlist]\n",
    "df1_signal_target = [0]*df1_signal.shape[0]\n",
    "df1_TT = df1_TT[varlist]\n",
    "df1_TT_target = [1]*df1_TT.shape[0]\n",
    "\n",
    "tmp0 = [df1_signal,df1_TT]\n",
    "df1 = pd.concat(tmp0)\n",
    "target = df1_signal_target+df1_TT_target\n",
    "#df1['target'] = target"
   ]
  },
  {
   "cell_type": "code",
   "execution_count": 9,
   "metadata": {},
   "outputs": [],
   "source": [
    "#train_test split\n",
    "#df1_train = df1.sample(frac=0.3)\n",
    "#df1_test = df1.drop(df1_train.index)\n",
    "\n",
    "from sklearn.model_selection import train_test_split\n",
    "\n",
    "df1_train, df1_test, df1_train_target, df1_test_target = train_test_split(df1, target, test_size=0.5)"
   ]
  },
  {
   "cell_type": "code",
   "execution_count": 10,
   "metadata": {},
   "outputs": [],
   "source": [
    "#df1_train_target = df1_train['target'].copy()\n",
    "#df1_train = df1_train.drop('target',axis=1)\n",
    "#df1_test_target = df1_test['target'].copy()\n",
    "#df1_test = df1_test.drop('target',axis=1)"
   ]
  },
  {
   "cell_type": "code",
   "execution_count": 11,
   "metadata": {},
   "outputs": [
    {
     "name": "stderr",
     "output_type": "stream",
     "text": [
      "Using TensorFlow backend.\n"
     ]
    }
   ],
   "source": [
    "from keras.utils import to_categorical\n",
    "df1_train_target_cat = to_categorical(df1_train_target)\n",
    "df1_test_target_cat = to_categorical(df1_test_target)"
   ]
  },
  {
   "cell_type": "code",
   "execution_count": 12,
   "metadata": {},
   "outputs": [
    {
     "name": "stdout",
     "output_type": "stream",
     "text": [
      "(32159, 2) (32159, 47) (32160, 47) (32160, 2)\n"
     ]
    }
   ],
   "source": [
    "print df1_train_target_cat.shape, df1_train.shape, df1_test.shape, df1_test_target_cat.shape"
   ]
  },
  {
   "cell_type": "code",
   "execution_count": 13,
   "metadata": {},
   "outputs": [],
   "source": [
    "#df1_train_target\n",
    "#df1_train_target_cat"
   ]
  },
  {
   "cell_type": "code",
   "execution_count": 14,
   "metadata": {},
   "outputs": [
    {
     "name": "stdout",
     "output_type": "stream",
     "text": [
      "['AK12_lead_mass' 'AK12_lead_pt' 'DR_AK12_tau' 'avg_dr_jet' 'b1_loose_pt'\n",
      " 'b1_pt' 'b2_loose_pt' 'b2_pt' 'detabb' 'detabb_loose' 'dr_lep1_tau_os'\n",
      " 'dr_leps' 'drbb' 'drbb_loose' 'htmiss' 'lep1_conePt' 'lep1_eta'\n",
      " 'lep1_fake_prob' 'lep1_pt' 'lep2_conePt' 'lep2_eta' 'lep2_genLepPt'\n",
      " 'lep2_pt' 'mT_lep1' 'mT_lep2' 'mTauTauVis' 'max_lep_eta' 'mbb'\n",
      " 'mbb_loose' 'minDR_AK12_L' 'minDR_AK12_lep' 'minDR_HTTv2_L'\n",
      " 'minDR_HTTv2_lep' 'minDR_HTTv2_tau' 'mindr_lep1_jet' 'mindr_lep2_jet'\n",
      " 'mindr_tau_jet' 'ptbb' 'ptbb_loose' 'ptmiss' 'tau_eta' 'tau_mva' 'tau_pt'\n",
      " 'N_jetAK12' 'nBJetLoose' 'nJet' 'nMuon']\n"
     ]
    }
   ],
   "source": [
    "print df1_train.columns.values"
   ]
  },
  {
   "cell_type": "code",
   "execution_count": 15,
   "metadata": {},
   "outputs": [
    {
     "data": {
      "text/plain": [
       "47"
      ]
     },
     "execution_count": 15,
     "metadata": {},
     "output_type": "execute_result"
    }
   ],
   "source": [
    "len(varlist)"
   ]
  },
  {
   "cell_type": "code",
   "execution_count": 16,
   "metadata": {},
   "outputs": [],
   "source": [
    "#importing KERAS\n",
    "import keras\n",
    "from keras.layers import Embedding, Input, Flatten, Dense, Activation\n",
    "from keras.models import Model, Sequential\n",
    "from keras.optimizers import SGD\n",
    "\n",
    "\n",
    "\n",
    "#df1_train_target = keras.utils.to_categorical(df1_train_target, num_classes=2)\n",
    "#df1_test_target = keras.utils.to_categorical(df1_test_target, num_classes=2)"
   ]
  },
  {
   "cell_type": "code",
   "execution_count": 24,
   "metadata": {},
   "outputs": [],
   "source": [
    "#defining keras model\n",
    "model = Sequential()\n",
    "model.add(Dense(1000,activation='relu',input_dim=len(varlist)))\n",
    "model.add(Dense(10,activation='relu'))\n",
    "#model.add(Dense(10,activation='relu'))\n",
    "model.add(Dense(2,activation='softmax'))"
   ]
  },
  {
   "cell_type": "code",
   "execution_count": 25,
   "metadata": {},
   "outputs": [
    {
     "name": "stdout",
     "output_type": "stream",
     "text": [
      "_________________________________________________________________\n",
      "Layer (type)                 Output Shape              Param #   \n",
      "=================================================================\n",
      "dense_5 (Dense)              (None, 1000)              48000     \n",
      "_________________________________________________________________\n",
      "dense_6 (Dense)              (None, 10)                10010     \n",
      "_________________________________________________________________\n",
      "dense_7 (Dense)              (None, 2)                 22        \n",
      "=================================================================\n",
      "Total params: 58,032\n",
      "Trainable params: 58,032\n",
      "Non-trainable params: 0\n",
      "_________________________________________________________________\n"
     ]
    }
   ],
   "source": [
    "model.summary()"
   ]
  },
  {
   "cell_type": "code",
   "execution_count": 26,
   "metadata": {},
   "outputs": [],
   "source": [
    "model.compile(loss='categorical_crossentropy',optimizer='adam',metrics=['accuracy'])"
   ]
  },
  {
   "cell_type": "code",
   "execution_count": 31,
   "metadata": {},
   "outputs": [
    {
     "name": "stdout",
     "output_type": "stream",
     "text": [
      "Train on 32159 samples, validate on 32160 samples\n",
      "Epoch 1/20\n",
      "32159/32159 [==============================] - 1s 20us/step - loss: 0.4858 - acc: 0.7661 - val_loss: 0.4933 - val_acc: 0.7623\n",
      "Epoch 2/20\n",
      "32159/32159 [==============================] - 1s 20us/step - loss: 0.4855 - acc: 0.7644 - val_loss: 0.5065 - val_acc: 0.7494\n",
      "Epoch 3/20\n",
      "32159/32159 [==============================] - 1s 20us/step - loss: 0.4832 - acc: 0.7659 - val_loss: 0.4838 - val_acc: 0.7657\n",
      "Epoch 4/20\n",
      "32159/32159 [==============================] - 1s 20us/step - loss: 0.4817 - acc: 0.7696 - val_loss: 0.4850 - val_acc: 0.7670\n",
      "Epoch 5/20\n",
      "32159/32159 [==============================] - 1s 19us/step - loss: 0.4781 - acc: 0.7700 - val_loss: 0.4840 - val_acc: 0.7664\n",
      "Epoch 6/20\n",
      "32159/32159 [==============================] - 1s 20us/step - loss: 0.4784 - acc: 0.7692 - val_loss: 0.4899 - val_acc: 0.7619\n",
      "Epoch 7/20\n",
      "32159/32159 [==============================] - 1s 20us/step - loss: 0.4742 - acc: 0.7716 - val_loss: 0.5096 - val_acc: 0.7537\n",
      "Epoch 8/20\n",
      "32159/32159 [==============================] - 1s 20us/step - loss: 0.4761 - acc: 0.7700 - val_loss: 0.5398 - val_acc: 0.7493\n",
      "Epoch 9/20\n",
      "32159/32159 [==============================] - 1s 20us/step - loss: 0.4728 - acc: 0.7711 - val_loss: 0.4946 - val_acc: 0.7628\n",
      "Epoch 10/20\n",
      "32159/32159 [==============================] - 1s 19us/step - loss: 0.4713 - acc: 0.7728 - val_loss: 0.4877 - val_acc: 0.7687\n",
      "Epoch 11/20\n",
      "32159/32159 [==============================] - 1s 19us/step - loss: 0.4709 - acc: 0.7753 - val_loss: 0.4934 - val_acc: 0.7634\n",
      "Epoch 12/20\n",
      "32159/32159 [==============================] - 1s 20us/step - loss: 0.4688 - acc: 0.7769 - val_loss: 0.4998 - val_acc: 0.7522\n",
      "Epoch 13/20\n",
      "32159/32159 [==============================] - 1s 19us/step - loss: 0.4714 - acc: 0.7748 - val_loss: 0.4974 - val_acc: 0.7632\n",
      "Epoch 14/20\n",
      "32159/32159 [==============================] - 1s 19us/step - loss: 0.4696 - acc: 0.7759 - val_loss: 0.4795 - val_acc: 0.7707\n",
      "Epoch 15/20\n",
      "32159/32159 [==============================] - 1s 20us/step - loss: 0.4659 - acc: 0.7770 - val_loss: 0.4847 - val_acc: 0.7646\n",
      "Epoch 16/20\n",
      "32159/32159 [==============================] - 1s 19us/step - loss: 0.4677 - acc: 0.7751 - val_loss: 0.4871 - val_acc: 0.7662\n",
      "Epoch 17/20\n",
      "32159/32159 [==============================] - 1s 20us/step - loss: 0.4685 - acc: 0.7738 - val_loss: 0.4824 - val_acc: 0.7705\n",
      "Epoch 18/20\n",
      "32159/32159 [==============================] - 1s 21us/step - loss: 0.4641 - acc: 0.7782 - val_loss: 0.4793 - val_acc: 0.7701\n",
      "Epoch 19/20\n",
      "32159/32159 [==============================] - 1s 20us/step - loss: 0.4622 - acc: 0.7802 - val_loss: 0.4841 - val_acc: 0.7638\n",
      "Epoch 20/20\n",
      "32159/32159 [==============================] - 1s 20us/step - loss: 0.4638 - acc: 0.7800 - val_loss: 0.4866 - val_acc: 0.7652\n"
     ]
    }
   ],
   "source": [
    "hist = model.fit(df1_train,df1_train_target_cat,\n",
    "                 batch_size=100,\n",
    "                 epochs=20,\n",
    "                 validation_data=(df1_test,df1_test_target_cat),\n",
    "                 verbose = 1\n",
    "                 )"
   ]
  },
  {
   "cell_type": "code",
   "execution_count": 32,
   "metadata": {
    "scrolled": true
   },
   "outputs": [],
   "source": [
    "from keras.wrappers.scikit_learn import KerasClassifier\n",
    "from sklearn.metrics import roc_curve\n",
    "from sklearn.metrics import auc\n",
    "import matplotlib\n",
    "from matplotlib import pyplot as plt"
   ]
  },
  {
   "cell_type": "code",
   "execution_count": 33,
   "metadata": {},
   "outputs": [],
   "source": [
    "fpr_keras, tpr_keras, thresholds_keras = roc_curve(df1_test_target_cat[:,0],model.predict(df1_test)[:,0])\n",
    "auc_keras = auc(fpr_keras, tpr_keras)"
   ]
  },
  {
   "cell_type": "code",
   "execution_count": 34,
   "metadata": {},
   "outputs": [
    {
     "data": {
      "image/png": "[encoded data removed]",
      "text/plain": [
       "<Figure size 432x288 with 1 Axes>"
      ]
     },
     "metadata": {},
     "output_type": "display_data"
    }
   ],
   "source": [
    "plt.figure(1)\n",
    "plt.plot([0, 1], [0, 1], 'k--')\n",
    "plt.plot(fpr_keras, tpr_keras, label='Keras (area = {:.3f})'.format(auc_keras))\n",
    "plt.xlabel('False positive rate')\n",
    "plt.ylabel('True positive rate')\n",
    "plt.title('ROC curve')\n",
    "plt.legend(loc='best')\n",
    "plt.show()"
   ]
  },
  {
   "cell_type": "code",
   "execution_count": null,
   "metadata": {},
   "outputs": [],
   "source": []
  },
  {
   "cell_type": "code",
   "execution_count": null,
   "metadata": {},
   "outputs": [],
   "source": []
  },
  {
   "cell_type": "code",
   "execution_count": null,
   "metadata": {},
   "outputs": [],
   "source": []
  },
  {
   "cell_type": "code",
   "execution_count": null,
   "metadata": {},
   "outputs": [],
   "source": []
  },
  {
   "cell_type": "code",
   "execution_count": null,
   "metadata": {},
   "outputs": [],
   "source": []
  },
  {
   "cell_type": "code",
   "execution_count": null,
   "metadata": {},
   "outputs": [],
   "source": []
  },
  {
   "cell_type": "code",
   "execution_count": null,
   "metadata": {},
   "outputs": [],
   "source": []
  },
  {
   "cell_type": "code",
   "execution_count": null,
   "metadata": {},
   "outputs": [],
   "source": []
  },
  {
   "cell_type": "code",
   "execution_count": null,
   "metadata": {},
   "outputs": [],
   "source": []
  },
  {
   "cell_type": "code",
   "execution_count": null,
   "metadata": {},
   "outputs": [],
   "source": []
  }
 ],
 "metadata": {
  "kernelspec": {
   "display_name": "Python 2",
   "language": "python",
   "name": "python2"
  },
  "language_info": {
   "codemirror_mode": {
    "name": "ipython",
    "version": 2
   },
   "file_extension": ".py",
   "mimetype": "text/x-python",
   "name": "python",
   "nbconvert_exporter": "python",
   "pygments_lexer": "ipython2",
   "version": "2.7.15"
  }
 },
 "nbformat": 4,
 "nbformat_minor": 2
}
