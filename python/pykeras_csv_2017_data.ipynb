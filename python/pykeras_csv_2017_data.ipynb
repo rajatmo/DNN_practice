{
 "cells": [
  {
   "cell_type": "code",
   "execution_count": 1,
   "metadata": {},
   "outputs": [],
   "source": [
    "import numpy as np\n",
    "import pandas as pd\n"
   ]
  },
  {
   "cell_type": "code",
   "execution_count": 2,
   "metadata": {},
   "outputs": [],
   "source": [
    "import glob\n",
    "pathwithwildcard = '../csv/2017/forBDTtraining/*/*.csv'\n",
    "paths = glob.glob(pathwithwildcard)"
   ]
  },
  {
   "cell_type": "code",
   "execution_count": 3,
   "metadata": {},
   "outputs": [],
   "source": [
    "df1_signal_dict = {}\n",
    "df1_TT_dict = {}\n",
    "\n",
    "for path in paths:\n",
    "    if 'ttHToNonbb' in path:\n",
    "        df1_signal_dict[path] = pd.read_csv(path)\n",
    "\n",
    "for path in paths:\n",
    "    if not (('ttHToNonbb' in path)or('PSweights' in path)):\n",
    "        if 'TTTo' in path:\n",
    "            df1_TT_dict[path] = pd.read_csv(path)"
   ]
  },
  {
   "cell_type": "code",
   "execution_count": 4,
   "metadata": {},
   "outputs": [],
   "source": [
    "tmp_sig = []\n",
    "for keys in df1_signal_dict.keys():\n",
    "    tmp_sig.append(df1_signal_dict[keys])\n",
    "tmp_TT = []\n",
    "for keys in df1_TT_dict.keys():\n",
    "    tmp_TT.append(df1_TT_dict[keys])\n"
   ]
  },
  {
   "cell_type": "code",
   "execution_count": 5,
   "metadata": {},
   "outputs": [],
   "source": [
    "df1_signal = pd.concat(tmp_sig)\n",
    "df1_TT = pd.concat(tmp_TT)"
   ]
  },
  {
   "cell_type": "code",
   "execution_count": 6,
   "metadata": {},
   "outputs": [
    {
     "name": "stdout",
     "output_type": "stream",
     "text": [
      "(44026, 124) (20293, 124)\n"
     ]
    }
   ],
   "source": [
    "print df1_signal.shape, df1_TT.shape"
   ]
  },
  {
   "cell_type": "code",
   "execution_count": 7,
   "metadata": {},
   "outputs": [],
   "source": [
    "varlist=[\n",
    "    'AK12_lead_mass',\n",
    "    'AK12_lead_pt',\n",
    "    'DR_AK12_tau',\n",
    "    'avg_dr_jet',\n",
    "    'b1_loose_pt',\n",
    "    'b1_pt',\n",
    "    'b2_loose_pt',\n",
    "    'b2_pt',\n",
    "    'detabb',\n",
    "    'detabb_loose',\n",
    "    'dr_lep1_tau_os',\n",
    "    'dr_leps',\n",
    "    'drbb',\n",
    "    'drbb_loose',\n",
    "    'htmiss',\n",
    "    'lep1_conePt',\n",
    "    'lep1_eta',\n",
    "    'lep1_fake_prob',\n",
    "    'lep1_pt',\n",
    "    'lep2_conePt',\n",
    "    'lep2_eta',\n",
    "    'lep2_genLepPt',\n",
    "    'lep2_pt',\n",
    "    'mT_lep1',\n",
    "    'mT_lep2',\n",
    "    'mTauTauVis',\n",
    "    'max_lep_eta',\n",
    "    'mbb',\n",
    "    'mbb_loose',\n",
    "    'minDR_AK12_L',\n",
    "    'minDR_AK12_lep',\n",
    "    'minDR_HTTv2_L',\n",
    "    'minDR_HTTv2_lep',\n",
    "    'minDR_HTTv2_tau',\n",
    "    'mindr_lep1_jet',\n",
    "    'mindr_lep2_jet',\n",
    "    'mindr_tau_jet',\n",
    "    'ptbb',\n",
    "    'ptbb_loose',\n",
    "    'ptmiss',\n",
    "    'tau_eta',\n",
    "    'tau_mva',\n",
    "    'tau_pt',\n",
    "    'N_jetAK12',\n",
    "    'nBJetLoose',\n",
    "    'nJet',\n",
    "    'nMuon'\n",
    "]"
   ]
  },
  {
   "cell_type": "code",
   "execution_count": 8,
   "metadata": {},
   "outputs": [],
   "source": [
    "df1_signal = df1_signal[varlist]\n",
    "df1_signal_target = [0]*df1_signal.shape[0]\n",
    "df1_TT = df1_TT[varlist]\n",
    "df1_TT_target = [1]*df1_TT.shape[0]\n",
    "\n",
    "tmp0 = [df1_signal,df1_TT]\n",
    "df1 = pd.concat(tmp0)\n",
    "target = df1_signal_target+df1_TT_target\n",
    "#df1['target'] = target"
   ]
  },
  {
   "cell_type": "code",
   "execution_count": 9,
   "metadata": {},
   "outputs": [],
   "source": [
    "#train_test split\n",
    "#df1_train = df1.sample(frac=0.3)\n",
    "#df1_test = df1.drop(df1_train.index)\n",
    "\n",
    "from sklearn.model_selection import train_test_split\n",
    "\n",
    "df1_train, df1_test, df1_train_target, df1_test_target = train_test_split(df1, target, test_size=0.5)"
   ]
  },
  {
   "cell_type": "code",
   "execution_count": 10,
   "metadata": {},
   "outputs": [],
   "source": [
    "#df1_train_target = df1_train['target'].copy()\n",
    "#df1_train = df1_train.drop('target',axis=1)\n",
    "#df1_test_target = df1_test['target'].copy()\n",
    "#df1_test = df1_test.drop('target',axis=1)"
   ]
  },
  {
   "cell_type": "code",
   "execution_count": 11,
   "metadata": {},
   "outputs": [
    {
     "name": "stderr",
     "output_type": "stream",
     "text": [
      "Using TensorFlow backend.\n"
     ]
    }
   ],
   "source": [
    "from keras.utils import to_categorical\n",
    "df1_train_target_cat = to_categorical(df1_train_target)\n",
    "df1_test_target_cat = to_categorical(df1_test_target)"
   ]
  },
  {
   "cell_type": "code",
   "execution_count": 17,
   "metadata": {},
   "outputs": [
    {
     "name": "stdout",
     "output_type": "stream",
     "text": [
      "(32159, 2) (32159, 47) (32160, 47) (32160, 2)\n"
     ]
    }
   ],
   "source": [
    "print df1_train_target_cat.shape, df1_train.shape, df1_test.shape, df1_test_target_cat.shape"
   ]
  },
  {
   "cell_type": "code",
   "execution_count": 18,
   "metadata": {},
   "outputs": [],
   "source": [
    "#df1_train_target\n",
    "#df1_train_target_cat"
   ]
  },
  {
   "cell_type": "code",
   "execution_count": 19,
   "metadata": {},
   "outputs": [
    {
     "name": "stdout",
     "output_type": "stream",
     "text": [
      "['AK12_lead_mass' 'AK12_lead_pt' 'DR_AK12_tau' 'avg_dr_jet' 'b1_loose_pt'\n",
      " 'b1_pt' 'b2_loose_pt' 'b2_pt' 'detabb' 'detabb_loose' 'dr_lep1_tau_os'\n",
      " 'dr_leps' 'drbb' 'drbb_loose' 'htmiss' 'lep1_conePt' 'lep1_eta'\n",
      " 'lep1_fake_prob' 'lep1_pt' 'lep2_conePt' 'lep2_eta' 'lep2_genLepPt'\n",
      " 'lep2_pt' 'mT_lep1' 'mT_lep2' 'mTauTauVis' 'max_lep_eta' 'mbb'\n",
      " 'mbb_loose' 'minDR_AK12_L' 'minDR_AK12_lep' 'minDR_HTTv2_L'\n",
      " 'minDR_HTTv2_lep' 'minDR_HTTv2_tau' 'mindr_lep1_jet' 'mindr_lep2_jet'\n",
      " 'mindr_tau_jet' 'ptbb' 'ptbb_loose' 'ptmiss' 'tau_eta' 'tau_mva' 'tau_pt'\n",
      " 'N_jetAK12' 'nBJetLoose' 'nJet' 'nMuon']\n"
     ]
    }
   ],
   "source": [
    "print df1_train.columns.values"
   ]
  },
  {
   "cell_type": "code",
   "execution_count": 20,
   "metadata": {},
   "outputs": [
    {
     "data": {
      "text/plain": [
       "47"
      ]
     },
     "execution_count": 20,
     "metadata": {},
     "output_type": "execute_result"
    }
   ],
   "source": [
    "len(varlist)"
   ]
  },
  {
   "cell_type": "code",
   "execution_count": 21,
   "metadata": {},
   "outputs": [],
   "source": [
    "#importing KERAS\n",
    "import keras\n",
    "from keras.layers import Embedding, Input, Flatten, Dense, Activation\n",
    "from keras.models import Model, Sequential\n",
    "from keras.optimizers import SGD\n",
    "\n",
    "\n",
    "\n",
    "#df1_train_target = keras.utils.to_categorical(df1_train_target, num_classes=2)\n",
    "#df1_test_target = keras.utils.to_categorical(df1_test_target, num_classes=2)"
   ]
  },
  {
   "cell_type": "code",
   "execution_count": 22,
   "metadata": {},
   "outputs": [],
   "source": [
    "#defining keras model\n",
    "model = Sequential()\n",
    "model.add(Dense(100,activation='relu',input_dim=len(varlist)))\n",
    "model.add(Dense(10,activation='relu'))\n",
    "model.add(Dense(2,activation='softmax'))"
   ]
  },
  {
   "cell_type": "code",
   "execution_count": 23,
   "metadata": {},
   "outputs": [
    {
     "name": "stdout",
     "output_type": "stream",
     "text": [
      "_________________________________________________________________\n",
      "Layer (type)                 Output Shape              Param #   \n",
      "=================================================================\n",
      "dense_1 (Dense)              (None, 100)               4800      \n",
      "_________________________________________________________________\n",
      "dense_2 (Dense)              (None, 10)                1010      \n",
      "_________________________________________________________________\n",
      "dense_3 (Dense)              (None, 2)                 22        \n",
      "=================================================================\n",
      "Total params: 5,832\n",
      "Trainable params: 5,832\n",
      "Non-trainable params: 0\n",
      "_________________________________________________________________\n"
     ]
    }
   ],
   "source": [
    "model.summary()"
   ]
  },
  {
   "cell_type": "code",
   "execution_count": 24,
   "metadata": {},
   "outputs": [],
   "source": [
    "model.compile(loss='categorical_crossentropy',optimizer='adam',metrics=['accuracy'])"
   ]
  },
  {
   "cell_type": "code",
   "execution_count": 25,
   "metadata": {},
   "outputs": [
    {
     "name": "stdout",
     "output_type": "stream",
     "text": [
      "Train on 32159 samples, validate on 32160 samples\n",
      "Epoch 1/100\n",
      "32159/32159 [==============================] - 6s 177us/step - loss: 0.5904 - acc: 0.7099 - val_loss: 0.5411 - val_acc: 0.7216\n",
      "Epoch 2/100\n",
      "32159/32159 [==============================] - 5s 167us/step - loss: 0.5436 - acc: 0.7229 - val_loss: 0.5417 - val_acc: 0.7372\n",
      "Epoch 3/100\n",
      "32159/32159 [==============================] - 5s 170us/step - loss: 0.5309 - acc: 0.7322 - val_loss: 0.5217 - val_acc: 0.7430\n",
      "Epoch 4/100\n",
      "32159/32159 [==============================] - 5s 171us/step - loss: 0.5178 - acc: 0.7445 - val_loss: 0.5004 - val_acc: 0.7581\n",
      "Epoch 5/100\n",
      "32159/32159 [==============================] - 7s 205us/step - loss: 0.5089 - acc: 0.7514 - val_loss: 0.5010 - val_acc: 0.7517\n",
      "Epoch 6/100\n",
      "32159/32159 [==============================] - 6s 174us/step - loss: 0.5029 - acc: 0.7544 - val_loss: 0.5405 - val_acc: 0.7343\n",
      "Epoch 7/100\n",
      "32159/32159 [==============================] - 6s 190us/step - loss: 0.4973 - acc: 0.7574 - val_loss: 0.4920 - val_acc: 0.7585\n",
      "Epoch 8/100\n",
      "32159/32159 [==============================] - 6s 192us/step - loss: 0.4942 - acc: 0.7592 - val_loss: 0.4989 - val_acc: 0.7648\n",
      "Epoch 9/100\n",
      "32159/32159 [==============================] - 6s 194us/step - loss: 0.4920 - acc: 0.7627 - val_loss: 0.4904 - val_acc: 0.7566\n",
      "Epoch 10/100\n",
      "32159/32159 [==============================] - 6s 180us/step - loss: 0.4895 - acc: 0.7625 - val_loss: 0.4792 - val_acc: 0.7685\n",
      "Epoch 11/100\n",
      "32159/32159 [==============================] - 6s 179us/step - loss: 0.4869 - acc: 0.7656 - val_loss: 0.4868 - val_acc: 0.7674\n",
      "Epoch 12/100\n",
      "32159/32159 [==============================] - 6s 174us/step - loss: 0.4868 - acc: 0.7644 - val_loss: 0.4960 - val_acc: 0.7572\n",
      "Epoch 13/100\n",
      "32159/32159 [==============================] - 5s 165us/step - loss: 0.4852 - acc: 0.7663 - val_loss: 0.4808 - val_acc: 0.7688\n",
      "Epoch 14/100\n",
      "32159/32159 [==============================] - 5s 166us/step - loss: 0.4822 - acc: 0.7665 - val_loss: 0.4904 - val_acc: 0.7673\n",
      "Epoch 15/100\n",
      "32159/32159 [==============================] - 5s 168us/step - loss: 0.4834 - acc: 0.7658 - val_loss: 0.4856 - val_acc: 0.7696\n",
      "Epoch 16/100\n",
      "32159/32159 [==============================] - 6s 198us/step - loss: 0.4820 - acc: 0.7667 - val_loss: 0.4807 - val_acc: 0.7685\n",
      "Epoch 17/100\n",
      "32159/32159 [==============================] - 6s 194us/step - loss: 0.4797 - acc: 0.7695 - val_loss: 0.4780 - val_acc: 0.7656\n",
      "Epoch 18/100\n",
      "32159/32159 [==============================] - 6s 181us/step - loss: 0.4803 - acc: 0.7674 - val_loss: 0.4845 - val_acc: 0.7726\n",
      "Epoch 19/100\n",
      "32159/32159 [==============================] - 6s 174us/step - loss: 0.4776 - acc: 0.7695 - val_loss: 0.4912 - val_acc: 0.7601\n",
      "Epoch 20/100\n",
      "32159/32159 [==============================] - 6s 184us/step - loss: 0.4774 - acc: 0.7696 - val_loss: 0.4815 - val_acc: 0.7714\n",
      "Epoch 21/100\n",
      "32159/32159 [==============================] - 7s 206us/step - loss: 0.4778 - acc: 0.7664 - val_loss: 0.4879 - val_acc: 0.7699\n",
      "Epoch 22/100\n",
      "32159/32159 [==============================] - 6s 184us/step - loss: 0.4760 - acc: 0.7708 - val_loss: 0.4876 - val_acc: 0.7521\n",
      "Epoch 23/100\n",
      "32159/32159 [==============================] - 5s 166us/step - loss: 0.4772 - acc: 0.7681 - val_loss: 0.4944 - val_acc: 0.7698\n",
      "Epoch 24/100\n",
      "32159/32159 [==============================] - 5s 167us/step - loss: 0.4747 - acc: 0.7726 - val_loss: 0.5105 - val_acc: 0.7446\n",
      "Epoch 25/100\n",
      "32159/32159 [==============================] - 5s 168us/step - loss: 0.4756 - acc: 0.7700 - val_loss: 0.4821 - val_acc: 0.7668\n",
      "Epoch 26/100\n",
      "32159/32159 [==============================] - 5s 169us/step - loss: 0.4743 - acc: 0.7705 - val_loss: 0.4758 - val_acc: 0.7736\n",
      "Epoch 27/100\n",
      "32159/32159 [==============================] - 5s 170us/step - loss: 0.4733 - acc: 0.7734 - val_loss: 0.4805 - val_acc: 0.7626\n",
      "Epoch 28/100\n",
      "32159/32159 [==============================] - 6s 192us/step - loss: 0.4742 - acc: 0.7699 - val_loss: 0.4907 - val_acc: 0.7552\n",
      "Epoch 29/100\n",
      "32159/32159 [==============================] - 7s 203us/step - loss: 0.4722 - acc: 0.7722 - val_loss: 0.4820 - val_acc: 0.7698\n",
      "Epoch 30/100\n",
      "32159/32159 [==============================] - 6s 173us/step - loss: 0.4732 - acc: 0.7689 - val_loss: 0.4775 - val_acc: 0.7709\n",
      "Epoch 31/100\n",
      "32159/32159 [==============================] - 6s 174us/step - loss: 0.4706 - acc: 0.7736 - val_loss: 0.4843 - val_acc: 0.7634\n",
      "Epoch 32/100\n",
      "32159/32159 [==============================] - 6s 172us/step - loss: 0.4701 - acc: 0.7736 - val_loss: 0.4733 - val_acc: 0.7717\n",
      "Epoch 33/100\n",
      "32159/32159 [==============================] - 6s 175us/step - loss: 0.4706 - acc: 0.7727 - val_loss: 0.4894 - val_acc: 0.7698\n",
      "Epoch 34/100\n",
      "32159/32159 [==============================] - 6s 175us/step - loss: 0.4694 - acc: 0.7740 - val_loss: 0.4859 - val_acc: 0.7706\n",
      "Epoch 35/100\n",
      "32159/32159 [==============================] - 6s 175us/step - loss: 0.4700 - acc: 0.7738 - val_loss: 0.4840 - val_acc: 0.7628\n",
      "Epoch 36/100\n",
      "32159/32159 [==============================] - 7s 225us/step - loss: 0.4679 - acc: 0.7730 - val_loss: 0.4765 - val_acc: 0.7677\n",
      "Epoch 37/100\n",
      "32159/32159 [==============================] - 6s 188us/step - loss: 0.4672 - acc: 0.7760 - val_loss: 0.4803 - val_acc: 0.7710\n",
      "Epoch 38/100\n",
      "32159/32159 [==============================] - 6s 177us/step - loss: 0.4674 - acc: 0.7747 - val_loss: 0.4841 - val_acc: 0.7580\n",
      "Epoch 39/100\n",
      "32159/32159 [==============================] - 6s 174us/step - loss: 0.4678 - acc: 0.7744 - val_loss: 0.4784 - val_acc: 0.7678\n",
      "Epoch 40/100\n",
      "32159/32159 [==============================] - 6s 174us/step - loss: 0.4662 - acc: 0.7741 - val_loss: 0.4778 - val_acc: 0.7732\n",
      "Epoch 41/100\n",
      "32159/32159 [==============================] - 5s 171us/step - loss: 0.4667 - acc: 0.7751 - val_loss: 0.4767 - val_acc: 0.7711\n",
      "Epoch 42/100\n",
      "32159/32159 [==============================] - 6s 173us/step - loss: 0.4654 - acc: 0.7737 - val_loss: 0.4981 - val_acc: 0.7674\n",
      "Epoch 43/100\n",
      "32159/32159 [==============================] - 6s 172us/step - loss: 0.4659 - acc: 0.7772 - val_loss: 0.5163 - val_acc: 0.7623\n",
      "Epoch 44/100\n",
      "32159/32159 [==============================] - 6s 172us/step - loss: 0.4655 - acc: 0.7724 - val_loss: 0.4861 - val_acc: 0.7567\n",
      "Epoch 45/100\n",
      "32159/32159 [==============================] - 6s 172us/step - loss: 0.4653 - acc: 0.7724 - val_loss: 0.5241 - val_acc: 0.7612\n",
      "Epoch 46/100\n",
      "32159/32159 [==============================] - 6s 173us/step - loss: 0.4634 - acc: 0.7763 - val_loss: 0.4828 - val_acc: 0.7688\n",
      "Epoch 47/100\n",
      "32159/32159 [==============================] - 6s 193us/step - loss: 0.4645 - acc: 0.7739 - val_loss: 0.4852 - val_acc: 0.7633\n",
      "Epoch 48/100\n",
      "32159/32159 [==============================] - 6s 171us/step - loss: 0.4639 - acc: 0.7758 - val_loss: 0.4778 - val_acc: 0.7692: 0s - loss: 0.4640 -\n",
      "Epoch 49/100\n",
      "32159/32159 [==============================] - 6s 186us/step - loss: 0.4636 - acc: 0.7745 - val_loss: 0.4975 - val_acc: 0.7633\n",
      "Epoch 50/100\n",
      "32159/32159 [==============================] - 7s 223us/step - loss: 0.4642 - acc: 0.7739 - val_loss: 0.4768 - val_acc: 0.7693\n",
      "Epoch 51/100\n",
      "32159/32159 [==============================] - 7s 227us/step - loss: 0.4631 - acc: 0.7751 - val_loss: 0.4780 - val_acc: 0.7686\n",
      "Epoch 52/100\n",
      "32159/32159 [==============================] - 7s 225us/step - loss: 0.4637 - acc: 0.7745 - val_loss: 0.4861 - val_acc: 0.7668\n",
      "Epoch 53/100\n",
      "32159/32159 [==============================] - 6s 188us/step - loss: 0.4619 - acc: 0.7743 - val_loss: 0.4781 - val_acc: 0.7702\n",
      "Epoch 54/100\n",
      "32159/32159 [==============================] - 6s 174us/step - loss: 0.4622 - acc: 0.7775 - val_loss: 0.4804 - val_acc: 0.7682\n",
      "Epoch 55/100\n",
      "32159/32159 [==============================] - 6s 200us/step - loss: 0.4620 - acc: 0.7771 - val_loss: 0.4887 - val_acc: 0.7493\n",
      "Epoch 56/100\n",
      "32159/32159 [==============================] - 7s 208us/step - loss: 0.4614 - acc: 0.7760 - val_loss: 0.4807 - val_acc: 0.7614\n",
      "Epoch 57/100\n",
      "32159/32159 [==============================] - 6s 202us/step - loss: 0.4609 - acc: 0.7758 - val_loss: 0.4777 - val_acc: 0.7650\n",
      "Epoch 58/100\n",
      "32159/32159 [==============================] - 8s 250us/step - loss: 0.4613 - acc: 0.7776 - val_loss: 0.4845 - val_acc: 0.7695\n",
      "Epoch 59/100\n"
     ]
    },
    {
     "name": "stdout",
     "output_type": "stream",
     "text": [
      "32159/32159 [==============================] - 6s 190us/step - loss: 0.4625 - acc: 0.7760 - val_loss: 0.5041 - val_acc: 0.7689\n",
      "Epoch 60/100\n",
      "32159/32159 [==============================] - 7s 209us/step - loss: 0.4603 - acc: 0.7792 - val_loss: 0.4824 - val_acc: 0.7701\n",
      "Epoch 61/100\n",
      "32159/32159 [==============================] - 5s 168us/step - loss: 0.4612 - acc: 0.7762 - val_loss: 0.4834 - val_acc: 0.7672\n",
      "Epoch 62/100\n",
      "32159/32159 [==============================] - 6s 187us/step - loss: 0.4601 - acc: 0.7794 - val_loss: 0.4845 - val_acc: 0.7601\n",
      "Epoch 63/100\n",
      "32159/32159 [==============================] - 6s 177us/step - loss: 0.4600 - acc: 0.7760 - val_loss: 0.4824 - val_acc: 0.7692\n",
      "Epoch 64/100\n",
      "32159/32159 [==============================] - 6s 177us/step - loss: 0.4592 - acc: 0.7793 - val_loss: 0.4913 - val_acc: 0.7667\n",
      "Epoch 65/100\n",
      "32159/32159 [==============================] - 6s 181us/step - loss: 0.4595 - acc: 0.7760 - val_loss: 0.4913 - val_acc: 0.7656\n",
      "Epoch 66/100\n",
      "32159/32159 [==============================] - 6s 180us/step - loss: 0.4586 - acc: 0.7787 - val_loss: 0.4842 - val_acc: 0.7673\n",
      "Epoch 67/100\n",
      "32159/32159 [==============================] - 6s 180us/step - loss: 0.4595 - acc: 0.7767 - val_loss: 0.4788 - val_acc: 0.7676\n",
      "Epoch 68/100\n",
      "32159/32159 [==============================] - 6s 181us/step - loss: 0.4595 - acc: 0.7774 - val_loss: 0.4927 - val_acc: 0.7701\n",
      "Epoch 69/100\n",
      "32159/32159 [==============================] - 6s 177us/step - loss: 0.4576 - acc: 0.7786 - val_loss: 0.4940 - val_acc: 0.7701\n",
      "Epoch 70/100\n",
      "32159/32159 [==============================] - 6s 181us/step - loss: 0.4578 - acc: 0.7782 - val_loss: 0.4832 - val_acc: 0.7608\n",
      "Epoch 71/100\n",
      "32159/32159 [==============================] - 6s 197us/step - loss: 0.4576 - acc: 0.7754 - val_loss: 0.4974 - val_acc: 0.7662\n",
      "Epoch 72/100\n",
      "32159/32159 [==============================] - 6s 172us/step - loss: 0.4577 - acc: 0.7796 - val_loss: 0.4864 - val_acc: 0.7701\n",
      "Epoch 73/100\n",
      "32159/32159 [==============================] - 5s 170us/step - loss: 0.4554 - acc: 0.7793 - val_loss: 0.4877 - val_acc: 0.7680\n",
      "Epoch 74/100\n",
      "32159/32159 [==============================] - 5s 170us/step - loss: 0.4584 - acc: 0.7792 - val_loss: 0.4801 - val_acc: 0.7664\n",
      "Epoch 75/100\n",
      "32159/32159 [==============================] - 7s 204us/step - loss: 0.4573 - acc: 0.7794 - val_loss: 0.4860 - val_acc: 0.7711\n",
      "Epoch 76/100\n",
      "32159/32159 [==============================] - 7s 208us/step - loss: 0.4565 - acc: 0.7799 - val_loss: 0.5034 - val_acc: 0.7687\n",
      "Epoch 77/100\n",
      "32159/32159 [==============================] - 6s 198us/step - loss: 0.4567 - acc: 0.7807 - val_loss: 0.4853 - val_acc: 0.7676\n",
      "Epoch 78/100\n",
      "32159/32159 [==============================] - 5s 170us/step - loss: 0.4566 - acc: 0.7781 - val_loss: 0.4886 - val_acc: 0.7565\n",
      "Epoch 79/100\n",
      "32159/32159 [==============================] - 6s 173us/step - loss: 0.4550 - acc: 0.7808 - val_loss: 0.4831 - val_acc: 0.7668\n",
      "Epoch 80/100\n",
      "32159/32159 [==============================] - 6s 172us/step - loss: 0.4568 - acc: 0.7798 - val_loss: 0.4850 - val_acc: 0.7666\n",
      "Epoch 81/100\n",
      "32159/32159 [==============================] - 5s 170us/step - loss: 0.4560 - acc: 0.7812 - val_loss: 0.4863 - val_acc: 0.7713\n",
      "Epoch 82/100\n",
      "32159/32159 [==============================] - 6s 172us/step - loss: 0.4561 - acc: 0.7786 - val_loss: 0.5077 - val_acc: 0.7508\n",
      "Epoch 83/100\n",
      "32159/32159 [==============================] - 6s 171us/step - loss: 0.4554 - acc: 0.7802 - val_loss: 0.4840 - val_acc: 0.7623\n",
      "Epoch 84/100\n",
      "32159/32159 [==============================] - 5s 171us/step - loss: 0.4548 - acc: 0.7798 - val_loss: 0.4857 - val_acc: 0.7667\n",
      "Epoch 85/100\n",
      "32159/32159 [==============================] - 7s 208us/step - loss: 0.4526 - acc: 0.7818 - val_loss: 0.4875 - val_acc: 0.7623\n",
      "Epoch 86/100\n",
      "32159/32159 [==============================] - 6s 198us/step - loss: 0.4554 - acc: 0.7806 - val_loss: 0.4907 - val_acc: 0.7673\n",
      "Epoch 87/100\n",
      "32159/32159 [==============================] - 8s 245us/step - loss: 0.4554 - acc: 0.7807 - val_loss: 0.4816 - val_acc: 0.7694\n",
      "Epoch 88/100\n",
      "32159/32159 [==============================] - 6s 196us/step - loss: 0.4544 - acc: 0.7772 - val_loss: 0.5115 - val_acc: 0.7692\n",
      "Epoch 89/100\n",
      "32159/32159 [==============================] - 6s 178us/step - loss: 0.4560 - acc: 0.7788 - val_loss: 0.5064 - val_acc: 0.7675\n",
      "Epoch 90/100\n",
      "32159/32159 [==============================] - 6s 177us/step - loss: 0.4538 - acc: 0.7797 - val_loss: 0.4874 - val_acc: 0.7642\n",
      "Epoch 91/100\n",
      "32159/32159 [==============================] - 6s 180us/step - loss: 0.4549 - acc: 0.7807 - val_loss: 0.4921 - val_acc: 0.7673\n",
      "Epoch 92/100\n",
      "32159/32159 [==============================] - 6s 179us/step - loss: 0.4544 - acc: 0.7800 - val_loss: 0.5040 - val_acc: 0.7613: 0s - loss: 0.45\n",
      "Epoch 93/100\n",
      "32159/32159 [==============================] - 6s 181us/step - loss: 0.4535 - acc: 0.7812 - val_loss: 0.4889 - val_acc: 0.7677\n",
      "Epoch 94/100\n",
      "32159/32159 [==============================] - 6s 173us/step - loss: 0.4538 - acc: 0.7780 - val_loss: 0.4816 - val_acc: 0.7670\n",
      "Epoch 95/100\n",
      "32159/32159 [==============================] - 6s 194us/step - loss: 0.4532 - acc: 0.7794 - val_loss: 0.4942 - val_acc: 0.7660\n",
      "Epoch 96/100\n",
      "32159/32159 [==============================] - 6s 185us/step - loss: 0.4539 - acc: 0.7810 - val_loss: 0.4927 - val_acc: 0.7672\n",
      "Epoch 97/100\n",
      "32159/32159 [==============================] - 6s 175us/step - loss: 0.4533 - acc: 0.7818 - val_loss: 0.4920 - val_acc: 0.7673\n",
      "Epoch 98/100\n",
      "32159/32159 [==============================] - 6s 178us/step - loss: 0.4539 - acc: 0.7797 - val_loss: 0.4927 - val_acc: 0.7696\n",
      "Epoch 99/100\n",
      "32159/32159 [==============================] - 6s 190us/step - loss: 0.4533 - acc: 0.7797 - val_loss: 0.4997 - val_acc: 0.7650\n",
      "Epoch 100/100\n",
      "32159/32159 [==============================] - 6s 180us/step - loss: 0.4528 - acc: 0.7799 - val_loss: 0.4893 - val_acc: 0.7643\n"
     ]
    }
   ],
   "source": [
    "hist = model.fit(df1_train,df1_train_target_cat,\n",
    "                 batch_size=10,\n",
    "                 epochs=100,\n",
    "                 validation_data=(df1_test,df1_test_target_cat),\n",
    "                 verbose = 1\n",
    "                 )"
   ]
  },
  {
   "cell_type": "code",
   "execution_count": 26,
   "metadata": {
    "scrolled": true
   },
   "outputs": [],
   "source": [
    "from keras.wrappers.scikit_learn import KerasClassifier\n",
    "from sklearn.metrics import roc_curve\n",
    "from sklearn.metrics import auc\n",
    "import matplotlib\n",
    "from matplotlib import pyplot as plt"
   ]
  },
  {
   "cell_type": "code",
   "execution_count": 27,
   "metadata": {},
   "outputs": [],
   "source": [
    "fpr_keras, tpr_keras, thresholds_keras = roc_curve(df1_test_target_cat[:,0],model.predict(df1_test)[:,0])\n",
    "auc_keras = auc(fpr_keras, tpr_keras)"
   ]
  },
  {
   "cell_type": "code",
   "execution_count": null,
   "metadata": {},
   "outputs": [],
   "source": [
    "plt.figure(1)\n",
    "plt.plot([0, 1], [0, 1], 'k--')\n",
    "plt.plot(fpr_keras, tpr_keras, label='Keras (area = {:.3f})'.format(auc_keras))\n",
    "plt.xlabel('False positive rate')\n",
    "plt.ylabel('True positive rate')\n",
    "plt.title('ROC curve')\n",
    "plt.legend(loc='best')\n",
    "plt.show()"
   ]
  },
  {
   "cell_type": "code",
   "execution_count": null,
   "metadata": {},
   "outputs": [],
   "source": []
  },
  {
   "cell_type": "code",
   "execution_count": null,
   "metadata": {},
   "outputs": [],
   "source": []
  },
  {
   "cell_type": "code",
   "execution_count": null,
   "metadata": {},
   "outputs": [],
   "source": []
  },
  {
   "cell_type": "code",
   "execution_count": null,
   "metadata": {},
   "outputs": [],
   "source": []
  },
  {
   "cell_type": "code",
   "execution_count": null,
   "metadata": {},
   "outputs": [],
   "source": []
  },
  {
   "cell_type": "code",
   "execution_count": null,
   "metadata": {},
   "outputs": [],
   "source": []
  },
  {
   "cell_type": "code",
   "execution_count": null,
   "metadata": {},
   "outputs": [],
   "source": []
  },
  {
   "cell_type": "code",
   "execution_count": null,
   "metadata": {},
   "outputs": [],
   "source": []
  },
  {
   "cell_type": "code",
   "execution_count": null,
   "metadata": {},
   "outputs": [],
   "source": []
  },
  {
   "cell_type": "code",
   "execution_count": null,
   "metadata": {},
   "outputs": [],
   "source": []
  }
 ],
 "metadata": {
  "kernelspec": {
   "display_name": "Python 2",
   "language": "python",
   "name": "python2"
  },
  "language_info": {
   "codemirror_mode": {
    "name": "ipython",
    "version": 2
   },
   "file_extension": ".py",
   "mimetype": "text/x-python",
   "name": "python",
   "nbconvert_exporter": "python",
   "pygments_lexer": "ipython2",
   "version": "2.7.10"
  }
 },
 "nbformat": 4,
 "nbformat_minor": 2
}
