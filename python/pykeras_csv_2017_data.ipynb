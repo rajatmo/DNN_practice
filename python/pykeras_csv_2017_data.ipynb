{
 "cells": [
  {
   "cell_type": "code",
   "execution_count": 1,
   "metadata": {},
   "outputs": [],
   "source": [
    "import numpy as np\n",
    "import pandas as pd"
   ]
  },
  {
   "cell_type": "code",
   "execution_count": 2,
   "metadata": {},
   "outputs": [],
   "source": [
    "df1_signal = pd.read_csv('../csv/2017/forBDTtraining/ttHToNonbb_M125_powheg/ttHToNonbb_M125_powheg_forBDTtraining_central_1.csv')\n",
    "df1_signal_target = [1]*df1_signal.shape[0]\n",
    "#df1_signal['mbb_loose']\n",
    "df1_TT = pd.read_csv('../csv/2017/forBDTtraining/TTTo2L2Nu/TTTo2L2Nu_forBDTtraining_central_1.csv')\n",
    "df1_TT_target = [0]*df1_TT.shape[0]\n",
    "#df1_TT\n",
    "tmp0 = [df1_signal,df1_TT]\n",
    "df1 = pd.concat(tmp0)\n",
    "target = df1_signal_target+df1_TT_target\n",
    "df1['target'] = target"
   ]
  },
  {
   "cell_type": "code",
   "execution_count": 3,
   "metadata": {},
   "outputs": [],
   "source": [
    "#train_test split\n",
    "df1_train = df1.sample(frac=0.5,random_state=123)\n",
    "df1_test = df1.drop(df1_train.index)"
   ]
  },
  {
   "cell_type": "code",
   "execution_count": 4,
   "metadata": {},
   "outputs": [],
   "source": [
    "df1_train_target = df1_train['target'].copy()\n",
    "df1_train = df1_train.drop('target',axis=1)\n",
    "df1_test_target = df1_test['target'].copy()\n",
    "df1_test = df1_test.drop('target',axis=1)"
   ]
  },
  {
   "cell_type": "code",
   "execution_count": 7,
   "metadata": {},
   "outputs": [
    {
     "name": "stdout",
     "output_type": "stream",
     "text": [
      "(5957, 2) (5957, 124) (4282, 124) (4282, 2)\n"
     ]
    }
   ],
   "source": [
    "print df1_train_target.shape, df1_train.shape, df1_test.shape, df1_test_target.shape"
   ]
  },
  {
   "cell_type": "code",
   "execution_count": 6,
   "metadata": {},
   "outputs": [
    {
     "name": "stderr",
     "output_type": "stream",
     "text": [
      "Using TensorFlow backend.\n"
     ]
    }
   ],
   "source": [
    "#importing KERAS\n",
    "import keras\n",
    "from keras.layers import Embedding, Input, Flatten, Dense, Activation\n",
    "from keras.models import Model, Sequential\n",
    "from keras.optimizers import SGD\n",
    "from keras.utils import to_categorical\n",
    "\n",
    "\n",
    "df1_train_target = keras.utils.to_categorical(df1_train_target, num_classes=2)\n",
    "df1_test_target = keras.utils.to_categorical(df1_test_target, num_classes=2)"
   ]
  },
  {
   "cell_type": "code",
   "execution_count": 8,
   "metadata": {},
   "outputs": [],
   "source": [
    "#defining keras model\n",
    "model = Sequential()\n",
    "model.add(Dense(100,activation='sigmoid',input_dim=124))\n",
    "model.add(Dense(100,activation='sigmoid'))\n",
    "model.add(Dense(2,activation='tanh'))"
   ]
  },
  {
   "cell_type": "code",
   "execution_count": 10,
   "metadata": {},
   "outputs": [
    {
     "name": "stdout",
     "output_type": "stream",
     "text": [
      "_________________________________________________________________\n",
      "Layer (type)                 Output Shape              Param #   \n",
      "=================================================================\n",
      "dense_1 (Dense)              (None, 100)               12500     \n",
      "_________________________________________________________________\n",
      "dense_2 (Dense)              (None, 100)               10100     \n",
      "_________________________________________________________________\n",
      "dense_3 (Dense)              (None, 2)                 202       \n",
      "=================================================================\n",
      "Total params: 22,802\n",
      "Trainable params: 22,802\n",
      "Non-trainable params: 0\n",
      "_________________________________________________________________\n"
     ]
    }
   ],
   "source": [
    "model.summary()"
   ]
  },
  {
   "cell_type": "code",
   "execution_count": 9,
   "metadata": {},
   "outputs": [],
   "source": [
    "model.compile(loss='mean_squared_error',optimizer=SGD(),metrics=['binary_accuracy', ])"
   ]
  },
  {
   "cell_type": "code",
   "execution_count": 11,
   "metadata": {},
   "outputs": [
    {
     "name": "stdout",
     "output_type": "stream",
     "text": [
      "Train on 5957 samples, validate on 4282 samples\n",
      "Epoch 1/100\n",
      "5957/5957 [==============================] - 0s 82us/step - loss: nan - binary_accuracy: 0.0000e+00 - val_loss: nan - val_binary_accuracy: 0.0000e+00\n",
      "Epoch 2/100\n",
      "5957/5957 [==============================] - 0s 6us/step - loss: nan - binary_accuracy: 0.0000e+00 - val_loss: nan - val_binary_accuracy: 0.0000e+00\n",
      "Epoch 3/100\n",
      "5957/5957 [==============================] - 0s 6us/step - loss: nan - binary_accuracy: 0.0000e+00 - val_loss: nan - val_binary_accuracy: 0.0000e+00\n",
      "Epoch 4/100\n",
      "5957/5957 [==============================] - 0s 6us/step - loss: nan - binary_accuracy: 0.0000e+00 - val_loss: nan - val_binary_accuracy: 0.0000e+00\n",
      "Epoch 5/100\n",
      "5957/5957 [==============================] - 0s 6us/step - loss: nan - binary_accuracy: 0.0000e+00 - val_loss: nan - val_binary_accuracy: 0.0000e+00\n",
      "Epoch 6/100\n",
      "5957/5957 [==============================] - 0s 6us/step - loss: nan - binary_accuracy: 0.0000e+00 - val_loss: nan - val_binary_accuracy: 0.0000e+00\n",
      "Epoch 7/100\n",
      "5957/5957 [==============================] - 0s 6us/step - loss: nan - binary_accuracy: 0.0000e+00 - val_loss: nan - val_binary_accuracy: 0.0000e+00\n",
      "Epoch 8/100\n",
      "5957/5957 [==============================] - 0s 6us/step - loss: nan - binary_accuracy: 0.0000e+00 - val_loss: nan - val_binary_accuracy: 0.0000e+00\n",
      "Epoch 9/100\n",
      "5957/5957 [==============================] - 0s 5us/step - loss: nan - binary_accuracy: 0.0000e+00 - val_loss: nan - val_binary_accuracy: 0.0000e+00\n",
      "Epoch 10/100\n",
      "5957/5957 [==============================] - 0s 6us/step - loss: nan - binary_accuracy: 0.0000e+00 - val_loss: nan - val_binary_accuracy: 0.0000e+00\n",
      "Epoch 11/100\n",
      "5957/5957 [==============================] - 0s 6us/step - loss: nan - binary_accuracy: 0.0000e+00 - val_loss: nan - val_binary_accuracy: 0.0000e+00\n",
      "Epoch 12/100\n",
      "5957/5957 [==============================] - 0s 6us/step - loss: nan - binary_accuracy: 0.0000e+00 - val_loss: nan - val_binary_accuracy: 0.0000e+00\n",
      "Epoch 13/100\n",
      "5957/5957 [==============================] - 0s 6us/step - loss: nan - binary_accuracy: 0.0000e+00 - val_loss: nan - val_binary_accuracy: 0.0000e+00\n",
      "Epoch 14/100\n",
      "5957/5957 [==============================] - 0s 6us/step - loss: nan - binary_accuracy: 0.0000e+00 - val_loss: nan - val_binary_accuracy: 0.0000e+00\n",
      "Epoch 15/100\n",
      "5957/5957 [==============================] - 0s 6us/step - loss: nan - binary_accuracy: 0.0000e+00 - val_loss: nan - val_binary_accuracy: 0.0000e+00\n",
      "Epoch 16/100\n",
      "5957/5957 [==============================] - 0s 5us/step - loss: nan - binary_accuracy: 0.0000e+00 - val_loss: nan - val_binary_accuracy: 0.0000e+00\n",
      "Epoch 17/100\n",
      "5957/5957 [==============================] - 0s 6us/step - loss: nan - binary_accuracy: 0.0000e+00 - val_loss: nan - val_binary_accuracy: 0.0000e+00\n",
      "Epoch 18/100\n",
      "5957/5957 [==============================] - 0s 5us/step - loss: nan - binary_accuracy: 0.0000e+00 - val_loss: nan - val_binary_accuracy: 0.0000e+00\n",
      "Epoch 19/100\n",
      "5957/5957 [==============================] - 0s 6us/step - loss: nan - binary_accuracy: 0.0000e+00 - val_loss: nan - val_binary_accuracy: 0.0000e+00\n",
      "Epoch 20/100\n",
      "5957/5957 [==============================] - 0s 6us/step - loss: nan - binary_accuracy: 0.0000e+00 - val_loss: nan - val_binary_accuracy: 0.0000e+00\n",
      "Epoch 21/100\n",
      "5957/5957 [==============================] - 0s 6us/step - loss: nan - binary_accuracy: 0.0000e+00 - val_loss: nan - val_binary_accuracy: 0.0000e+00\n",
      "Epoch 22/100\n",
      "5957/5957 [==============================] - 0s 5us/step - loss: nan - binary_accuracy: 0.0000e+00 - val_loss: nan - val_binary_accuracy: 0.0000e+00\n",
      "Epoch 23/100\n",
      "5957/5957 [==============================] - 0s 6us/step - loss: nan - binary_accuracy: 0.0000e+00 - val_loss: nan - val_binary_accuracy: 0.0000e+00\n",
      "Epoch 24/100\n",
      "5957/5957 [==============================] - 0s 5us/step - loss: nan - binary_accuracy: 0.0000e+00 - val_loss: nan - val_binary_accuracy: 0.0000e+00\n",
      "Epoch 25/100\n",
      "5957/5957 [==============================] - 0s 5us/step - loss: nan - binary_accuracy: 0.0000e+00 - val_loss: nan - val_binary_accuracy: 0.0000e+00\n",
      "Epoch 26/100\n",
      "5957/5957 [==============================] - 0s 5us/step - loss: nan - binary_accuracy: 0.0000e+00 - val_loss: nan - val_binary_accuracy: 0.0000e+00\n",
      "Epoch 27/100\n",
      "5957/5957 [==============================] - 0s 5us/step - loss: nan - binary_accuracy: 0.0000e+00 - val_loss: nan - val_binary_accuracy: 0.0000e+00\n",
      "Epoch 28/100\n",
      "5957/5957 [==============================] - 0s 5us/step - loss: nan - binary_accuracy: 0.0000e+00 - val_loss: nan - val_binary_accuracy: 0.0000e+00\n",
      "Epoch 29/100\n",
      "5957/5957 [==============================] - 0s 5us/step - loss: nan - binary_accuracy: 0.0000e+00 - val_loss: nan - val_binary_accuracy: 0.0000e+00\n",
      "Epoch 30/100\n",
      "5957/5957 [==============================] - 0s 5us/step - loss: nan - binary_accuracy: 0.0000e+00 - val_loss: nan - val_binary_accuracy: 0.0000e+00\n",
      "Epoch 31/100\n",
      "5957/5957 [==============================] - 0s 5us/step - loss: nan - binary_accuracy: 0.0000e+00 - val_loss: nan - val_binary_accuracy: 0.0000e+00\n",
      "Epoch 32/100\n",
      "5957/5957 [==============================] - 0s 5us/step - loss: nan - binary_accuracy: 0.0000e+00 - val_loss: nan - val_binary_accuracy: 0.0000e+00\n",
      "Epoch 33/100\n",
      "5957/5957 [==============================] - 0s 5us/step - loss: nan - binary_accuracy: 0.0000e+00 - val_loss: nan - val_binary_accuracy: 0.0000e+00\n",
      "Epoch 34/100\n",
      "5957/5957 [==============================] - 0s 5us/step - loss: nan - binary_accuracy: 0.0000e+00 - val_loss: nan - val_binary_accuracy: 0.0000e+00\n",
      "Epoch 35/100\n",
      "5957/5957 [==============================] - 0s 5us/step - loss: nan - binary_accuracy: 0.0000e+00 - val_loss: nan - val_binary_accuracy: 0.0000e+00\n",
      "Epoch 36/100\n",
      "5957/5957 [==============================] - 0s 5us/step - loss: nan - binary_accuracy: 0.0000e+00 - val_loss: nan - val_binary_accuracy: 0.0000e+00\n",
      "Epoch 37/100\n",
      "5957/5957 [==============================] - 0s 5us/step - loss: nan - binary_accuracy: 0.0000e+00 - val_loss: nan - val_binary_accuracy: 0.0000e+00\n",
      "Epoch 38/100\n",
      "5957/5957 [==============================] - 0s 5us/step - loss: nan - binary_accuracy: 0.0000e+00 - val_loss: nan - val_binary_accuracy: 0.0000e+00\n",
      "Epoch 39/100\n",
      "5957/5957 [==============================] - 0s 5us/step - loss: nan - binary_accuracy: 0.0000e+00 - val_loss: nan - val_binary_accuracy: 0.0000e+00\n",
      "Epoch 40/100\n",
      "5957/5957 [==============================] - 0s 5us/step - loss: nan - binary_accuracy: 0.0000e+00 - val_loss: nan - val_binary_accuracy: 0.0000e+00\n",
      "Epoch 41/100\n",
      "5957/5957 [==============================] - 0s 5us/step - loss: nan - binary_accuracy: 0.0000e+00 - val_loss: nan - val_binary_accuracy: 0.0000e+00\n",
      "Epoch 42/100\n",
      "5957/5957 [==============================] - 0s 5us/step - loss: nan - binary_accuracy: 0.0000e+00 - val_loss: nan - val_binary_accuracy: 0.0000e+00\n",
      "Epoch 43/100\n",
      "5957/5957 [==============================] - 0s 5us/step - loss: nan - binary_accuracy: 0.0000e+00 - val_loss: nan - val_binary_accuracy: 0.0000e+00\n",
      "Epoch 44/100\n",
      "5957/5957 [==============================] - 0s 5us/step - loss: nan - binary_accuracy: 0.0000e+00 - val_loss: nan - val_binary_accuracy: 0.0000e+00\n",
      "Epoch 45/100\n",
      "5957/5957 [==============================] - 0s 5us/step - loss: nan - binary_accuracy: 0.0000e+00 - val_loss: nan - val_binary_accuracy: 0.0000e+00\n",
      "Epoch 46/100\n",
      "5957/5957 [==============================] - 0s 5us/step - loss: nan - binary_accuracy: 0.0000e+00 - val_loss: nan - val_binary_accuracy: 0.0000e+00\n",
      "Epoch 47/100\n",
      "5957/5957 [==============================] - 0s 5us/step - loss: nan - binary_accuracy: 0.0000e+00 - val_loss: nan - val_binary_accuracy: 0.0000e+00\n",
      "Epoch 48/100\n",
      "5957/5957 [==============================] - 0s 5us/step - loss: nan - binary_accuracy: 0.0000e+00 - val_loss: nan - val_binary_accuracy: 0.0000e+00\n",
      "Epoch 49/100\n",
      "5957/5957 [==============================] - 0s 5us/step - loss: nan - binary_accuracy: 0.0000e+00 - val_loss: nan - val_binary_accuracy: 0.0000e+00\n",
      "Epoch 50/100\n",
      "5957/5957 [==============================] - 0s 5us/step - loss: nan - binary_accuracy: 0.0000e+00 - val_loss: nan - val_binary_accuracy: 0.0000e+00\n",
      "Epoch 51/100\n"
     ]
    },
    {
     "name": "stdout",
     "output_type": "stream",
     "text": [
      "5957/5957 [==============================] - 0s 5us/step - loss: nan - binary_accuracy: 0.0000e+00 - val_loss: nan - val_binary_accuracy: 0.0000e+00\n",
      "Epoch 52/100\n",
      "5957/5957 [==============================] - 0s 5us/step - loss: nan - binary_accuracy: 0.0000e+00 - val_loss: nan - val_binary_accuracy: 0.0000e+00\n",
      "Epoch 53/100\n",
      "5957/5957 [==============================] - 0s 5us/step - loss: nan - binary_accuracy: 0.0000e+00 - val_loss: nan - val_binary_accuracy: 0.0000e+00\n",
      "Epoch 54/100\n",
      "5957/5957 [==============================] - 0s 5us/step - loss: nan - binary_accuracy: 0.0000e+00 - val_loss: nan - val_binary_accuracy: 0.0000e+00\n",
      "Epoch 55/100\n",
      "5957/5957 [==============================] - 0s 5us/step - loss: nan - binary_accuracy: 0.0000e+00 - val_loss: nan - val_binary_accuracy: 0.0000e+00\n",
      "Epoch 56/100\n",
      "5957/5957 [==============================] - 0s 5us/step - loss: nan - binary_accuracy: 0.0000e+00 - val_loss: nan - val_binary_accuracy: 0.0000e+00\n",
      "Epoch 57/100\n",
      "5957/5957 [==============================] - 0s 5us/step - loss: nan - binary_accuracy: 0.0000e+00 - val_loss: nan - val_binary_accuracy: 0.0000e+00\n",
      "Epoch 58/100\n",
      "5957/5957 [==============================] - 0s 5us/step - loss: nan - binary_accuracy: 0.0000e+00 - val_loss: nan - val_binary_accuracy: 0.0000e+00\n",
      "Epoch 59/100\n",
      "5957/5957 [==============================] - 0s 5us/step - loss: nan - binary_accuracy: 0.0000e+00 - val_loss: nan - val_binary_accuracy: 0.0000e+00\n",
      "Epoch 60/100\n",
      "5957/5957 [==============================] - 0s 5us/step - loss: nan - binary_accuracy: 0.0000e+00 - val_loss: nan - val_binary_accuracy: 0.0000e+00\n",
      "Epoch 61/100\n",
      "5957/5957 [==============================] - 0s 5us/step - loss: nan - binary_accuracy: 0.0000e+00 - val_loss: nan - val_binary_accuracy: 0.0000e+00\n",
      "Epoch 62/100\n",
      "5957/5957 [==============================] - 0s 5us/step - loss: nan - binary_accuracy: 0.0000e+00 - val_loss: nan - val_binary_accuracy: 0.0000e+00\n",
      "Epoch 63/100\n",
      "5957/5957 [==============================] - 0s 5us/step - loss: nan - binary_accuracy: 0.0000e+00 - val_loss: nan - val_binary_accuracy: 0.0000e+00\n",
      "Epoch 64/100\n",
      "5957/5957 [==============================] - 0s 5us/step - loss: nan - binary_accuracy: 0.0000e+00 - val_loss: nan - val_binary_accuracy: 0.0000e+00\n",
      "Epoch 65/100\n",
      "5957/5957 [==============================] - 0s 5us/step - loss: nan - binary_accuracy: 0.0000e+00 - val_loss: nan - val_binary_accuracy: 0.0000e+00\n",
      "Epoch 66/100\n",
      "5957/5957 [==============================] - 0s 5us/step - loss: nan - binary_accuracy: 0.0000e+00 - val_loss: nan - val_binary_accuracy: 0.0000e+00\n",
      "Epoch 67/100\n",
      "5957/5957 [==============================] - 0s 5us/step - loss: nan - binary_accuracy: 0.0000e+00 - val_loss: nan - val_binary_accuracy: 0.0000e+00\n",
      "Epoch 68/100\n",
      "5957/5957 [==============================] - 0s 5us/step - loss: nan - binary_accuracy: 0.0000e+00 - val_loss: nan - val_binary_accuracy: 0.0000e+00\n",
      "Epoch 69/100\n",
      "5957/5957 [==============================] - 0s 5us/step - loss: nan - binary_accuracy: 0.0000e+00 - val_loss: nan - val_binary_accuracy: 0.0000e+00\n",
      "Epoch 70/100\n",
      "5957/5957 [==============================] - 0s 5us/step - loss: nan - binary_accuracy: 0.0000e+00 - val_loss: nan - val_binary_accuracy: 0.0000e+00\n",
      "Epoch 71/100\n",
      "5957/5957 [==============================] - 0s 5us/step - loss: nan - binary_accuracy: 0.0000e+00 - val_loss: nan - val_binary_accuracy: 0.0000e+00\n",
      "Epoch 72/100\n",
      "5957/5957 [==============================] - 0s 5us/step - loss: nan - binary_accuracy: 0.0000e+00 - val_loss: nan - val_binary_accuracy: 0.0000e+00\n",
      "Epoch 73/100\n",
      "5957/5957 [==============================] - 0s 5us/step - loss: nan - binary_accuracy: 0.0000e+00 - val_loss: nan - val_binary_accuracy: 0.0000e+00\n",
      "Epoch 74/100\n",
      "5957/5957 [==============================] - 0s 5us/step - loss: nan - binary_accuracy: 0.0000e+00 - val_loss: nan - val_binary_accuracy: 0.0000e+00\n",
      "Epoch 75/100\n",
      "5957/5957 [==============================] - 0s 5us/step - loss: nan - binary_accuracy: 0.0000e+00 - val_loss: nan - val_binary_accuracy: 0.0000e+00\n",
      "Epoch 76/100\n",
      "5957/5957 [==============================] - 0s 5us/step - loss: nan - binary_accuracy: 0.0000e+00 - val_loss: nan - val_binary_accuracy: 0.0000e+00\n",
      "Epoch 77/100\n",
      "5957/5957 [==============================] - 0s 5us/step - loss: nan - binary_accuracy: 0.0000e+00 - val_loss: nan - val_binary_accuracy: 0.0000e+00\n",
      "Epoch 78/100\n",
      "5957/5957 [==============================] - 0s 5us/step - loss: nan - binary_accuracy: 0.0000e+00 - val_loss: nan - val_binary_accuracy: 0.0000e+00\n",
      "Epoch 79/100\n",
      "5957/5957 [==============================] - 0s 5us/step - loss: nan - binary_accuracy: 0.0000e+00 - val_loss: nan - val_binary_accuracy: 0.0000e+00\n",
      "Epoch 80/100\n",
      "5957/5957 [==============================] - 0s 5us/step - loss: nan - binary_accuracy: 0.0000e+00 - val_loss: nan - val_binary_accuracy: 0.0000e+00\n",
      "Epoch 81/100\n",
      "5957/5957 [==============================] - 0s 5us/step - loss: nan - binary_accuracy: 0.0000e+00 - val_loss: nan - val_binary_accuracy: 0.0000e+00\n",
      "Epoch 82/100\n",
      "5957/5957 [==============================] - 0s 5us/step - loss: nan - binary_accuracy: 0.0000e+00 - val_loss: nan - val_binary_accuracy: 0.0000e+00\n",
      "Epoch 83/100\n",
      "5957/5957 [==============================] - 0s 5us/step - loss: nan - binary_accuracy: 0.0000e+00 - val_loss: nan - val_binary_accuracy: 0.0000e+00\n",
      "Epoch 84/100\n",
      "5957/5957 [==============================] - 0s 5us/step - loss: nan - binary_accuracy: 0.0000e+00 - val_loss: nan - val_binary_accuracy: 0.0000e+00\n",
      "Epoch 85/100\n",
      "5957/5957 [==============================] - 0s 5us/step - loss: nan - binary_accuracy: 0.0000e+00 - val_loss: nan - val_binary_accuracy: 0.0000e+00\n",
      "Epoch 86/100\n",
      "5957/5957 [==============================] - 0s 5us/step - loss: nan - binary_accuracy: 0.0000e+00 - val_loss: nan - val_binary_accuracy: 0.0000e+00\n",
      "Epoch 87/100\n",
      "5957/5957 [==============================] - 0s 5us/step - loss: nan - binary_accuracy: 0.0000e+00 - val_loss: nan - val_binary_accuracy: 0.0000e+00\n",
      "Epoch 88/100\n",
      "5957/5957 [==============================] - 0s 5us/step - loss: nan - binary_accuracy: 0.0000e+00 - val_loss: nan - val_binary_accuracy: 0.0000e+00\n",
      "Epoch 89/100\n",
      "5957/5957 [==============================] - 0s 5us/step - loss: nan - binary_accuracy: 0.0000e+00 - val_loss: nan - val_binary_accuracy: 0.0000e+00\n",
      "Epoch 90/100\n",
      "5957/5957 [==============================] - 0s 5us/step - loss: nan - binary_accuracy: 0.0000e+00 - val_loss: nan - val_binary_accuracy: 0.0000e+00\n",
      "Epoch 91/100\n",
      "5957/5957 [==============================] - 0s 5us/step - loss: nan - binary_accuracy: 0.0000e+00 - val_loss: nan - val_binary_accuracy: 0.0000e+00\n",
      "Epoch 92/100\n",
      "5957/5957 [==============================] - 0s 5us/step - loss: nan - binary_accuracy: 0.0000e+00 - val_loss: nan - val_binary_accuracy: 0.0000e+00\n",
      "Epoch 93/100\n",
      "5957/5957 [==============================] - 0s 5us/step - loss: nan - binary_accuracy: 0.0000e+00 - val_loss: nan - val_binary_accuracy: 0.0000e+00\n",
      "Epoch 94/100\n",
      "5957/5957 [==============================] - 0s 5us/step - loss: nan - binary_accuracy: 0.0000e+00 - val_loss: nan - val_binary_accuracy: 0.0000e+00\n",
      "Epoch 95/100\n",
      "5957/5957 [==============================] - 0s 5us/step - loss: nan - binary_accuracy: 0.0000e+00 - val_loss: nan - val_binary_accuracy: 0.0000e+00\n",
      "Epoch 96/100\n",
      "5957/5957 [==============================] - 0s 5us/step - loss: nan - binary_accuracy: 0.0000e+00 - val_loss: nan - val_binary_accuracy: 0.0000e+00\n",
      "Epoch 97/100\n",
      "5957/5957 [==============================] - 0s 5us/step - loss: nan - binary_accuracy: 0.0000e+00 - val_loss: nan - val_binary_accuracy: 0.0000e+00\n",
      "Epoch 98/100\n",
      "5957/5957 [==============================] - 0s 5us/step - loss: nan - binary_accuracy: 0.0000e+00 - val_loss: nan - val_binary_accuracy: 0.0000e+00\n",
      "Epoch 99/100\n",
      "5957/5957 [==============================] - 0s 5us/step - loss: nan - binary_accuracy: 0.0000e+00 - val_loss: nan - val_binary_accuracy: 0.0000e+00\n",
      "Epoch 100/100\n",
      "5957/5957 [==============================] - 0s 4us/step - loss: nan - binary_accuracy: 0.0000e+00 - val_loss: nan - val_binary_accuracy: 0.0000e+00\n"
     ]
    }
   ],
   "source": [
    "hist = model.fit(df1_train,df1_train_target,\n",
    "                 batch_size=1000,\n",
    "                 epochs=100,\n",
    "                 validation_data=(df1_test,df1_test_target),\n",
    "                 verbose = 1\n",
    "                 )"
   ]
  },
  {
   "cell_type": "code",
   "execution_count": 158,
   "metadata": {
    "scrolled": true
   },
   "outputs": [
    {
     "name": "stdout",
     "output_type": "stream",
     "text": [
      "[[0. 1.]\n",
      " [0. 1.]\n",
      " [0. 1.]\n",
      " ...\n",
      " [1. 0.]\n",
      " [1. 0.]\n",
      " [1. 0.]]\n"
     ]
    }
   ],
   "source": []
  },
  {
   "cell_type": "code",
   "execution_count": null,
   "metadata": {},
   "outputs": [],
   "source": []
  }
 ],
 "metadata": {
  "kernelspec": {
   "display_name": "Python 2",
   "language": "python",
   "name": "python2"
  },
  "language_info": {
   "codemirror_mode": {
    "name": "ipython",
    "version": 2
   },
   "file_extension": ".py",
   "mimetype": "text/x-python",
   "name": "python",
   "nbconvert_exporter": "python",
   "pygments_lexer": "ipython2",
   "version": "2.7.15"
  }
 },
 "nbformat": 4,
 "nbformat_minor": 2
}
